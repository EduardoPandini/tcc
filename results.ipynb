{
 "cells": [
  {
   "cell_type": "code",
   "execution_count": 15,
   "metadata": {},
   "outputs": [],
   "source": [
    "from scipy.stats import gmean\n",
    "from glob import glob\n",
    "import glob\n",
    "import matplotlib.pyplot as plt\n",
    "import matplotlib\n",
    "import seaborn as sns\n",
    "import pandas as pd\n",
    "import numpy as np\n",
    "import msgpack\n",
    "import os\n",
    "\n",
    "\n",
    "\n",
    "pd.set_option(\"display.max_colwidth\", None)\n"
   ]
  },
  {
   "cell_type": "markdown",
   "metadata": {},
   "source": [
    "## NSGA-II Sensitivity Analysis"
   ]
  },
  {
   "cell_type": "code",
   "execution_count": 16,
   "metadata": {},
   "outputs": [],
   "source": [
    "\n",
    "\n",
    "def read_results(path):\n",
    "    data = []\n",
    "    for algorithm_path in glob.glob(path):\n",
    "        # Extraia o nome do algoritmo após o sinal de igual e capitaliza a primeira letra\n",
    "        algorithm_name = algorithm_path.split('/')[-1].split('=')[-1].capitalize()\n",
    "        for log in glob.glob(algorithm_path + \"/*\"):\n",
    "            if \"Topology\" in log:\n",
    "                with open(log, \"rb\") as f:\n",
    "                    all_metrics = msgpack.load(f, strict_map_key=False)\n",
    "                    for step, metrics in enumerate(all_metrics):\n",
    "                        metrics[\"algorithm\"] = algorithm_name\n",
    "                        metrics[\"step\"] = step\n",
    "                        data.append(metrics)\n",
    "    return data\n",
    "\n",
    "data = read_results(\"logs/*\")\n",
    "\n",
    "\n"
   ]
  },
  {
   "cell_type": "code",
   "execution_count": 17,
   "metadata": {},
   "outputs": [
    {
     "data": {
      "text/html": [
       "<div>\n",
       "<style scoped>\n",
       "    .dataframe tbody tr th:only-of-type {\n",
       "        vertical-align: middle;\n",
       "    }\n",
       "\n",
       "    .dataframe tbody tr th {\n",
       "        vertical-align: top;\n",
       "    }\n",
       "\n",
       "    .dataframe thead th {\n",
       "        text-align: right;\n",
       "    }\n",
       "</style>\n",
       "<table border=\"1\" class=\"dataframe\">\n",
       "  <thead>\n",
       "    <tr style=\"text-align: right;\">\n",
       "      <th></th>\n",
       "      <th>algorithm</th>\n",
       "      <th>step</th>\n",
       "      <th>overall_occupation</th>\n",
       "      <th>overall_power_consumption</th>\n",
       "      <th>delay_sla_violations</th>\n",
       "      <th>privacy_sla_violations</th>\n",
       "      <th>Cost</th>\n",
       "    </tr>\n",
       "  </thead>\n",
       "  <tbody>\n",
       "    <tr>\n",
       "      <th>0</th>\n",
       "      <td>Dcf;</td>\n",
       "      <td>0</td>\n",
       "      <td>0.000000</td>\n",
       "      <td>2622.000000</td>\n",
       "      <td>24</td>\n",
       "      <td>0</td>\n",
       "      <td>0.000000</td>\n",
       "    </tr>\n",
       "    <tr>\n",
       "      <th>1</th>\n",
       "      <td>Dcf;</td>\n",
       "      <td>1</td>\n",
       "      <td>87.200847</td>\n",
       "      <td>13332.000000</td>\n",
       "      <td>24</td>\n",
       "      <td>34</td>\n",
       "      <td>221.578944</td>\n",
       "    </tr>\n",
       "    <tr>\n",
       "      <th>2</th>\n",
       "      <td>Dcf;</td>\n",
       "      <td>2</td>\n",
       "      <td>87.200847</td>\n",
       "      <td>13332.000000</td>\n",
       "      <td>24</td>\n",
       "      <td>34</td>\n",
       "      <td>221.578944</td>\n",
       "    </tr>\n",
       "    <tr>\n",
       "      <th>3</th>\n",
       "      <td>Dcf;</td>\n",
       "      <td>3</td>\n",
       "      <td>87.200847</td>\n",
       "      <td>13332.000000</td>\n",
       "      <td>24</td>\n",
       "      <td>34</td>\n",
       "      <td>221.578944</td>\n",
       "    </tr>\n",
       "    <tr>\n",
       "      <th>4</th>\n",
       "      <td>Dcf;</td>\n",
       "      <td>4</td>\n",
       "      <td>87.200847</td>\n",
       "      <td>13332.000000</td>\n",
       "      <td>24</td>\n",
       "      <td>34</td>\n",
       "      <td>221.578944</td>\n",
       "    </tr>\n",
       "    <tr>\n",
       "      <th>...</th>\n",
       "      <td>...</td>\n",
       "      <td>...</td>\n",
       "      <td>...</td>\n",
       "      <td>...</td>\n",
       "      <td>...</td>\n",
       "      <td>...</td>\n",
       "      <td>...</td>\n",
       "    </tr>\n",
       "    <tr>\n",
       "      <th>500</th>\n",
       "      <td>Spp;</td>\n",
       "      <td>96</td>\n",
       "      <td>86.900144</td>\n",
       "      <td>13305.000000</td>\n",
       "      <td>24</td>\n",
       "      <td>55</td>\n",
       "      <td>259.933908</td>\n",
       "    </tr>\n",
       "    <tr>\n",
       "      <th>501</th>\n",
       "      <td>Spp;</td>\n",
       "      <td>97</td>\n",
       "      <td>86.884637</td>\n",
       "      <td>13307.583333</td>\n",
       "      <td>24</td>\n",
       "      <td>56</td>\n",
       "      <td>261.516736</td>\n",
       "    </tr>\n",
       "    <tr>\n",
       "      <th>502</th>\n",
       "      <td>Spp;</td>\n",
       "      <td>98</td>\n",
       "      <td>86.900144</td>\n",
       "      <td>13305.000000</td>\n",
       "      <td>24</td>\n",
       "      <td>55</td>\n",
       "      <td>259.933908</td>\n",
       "    </tr>\n",
       "    <tr>\n",
       "      <th>503</th>\n",
       "      <td>Spp;</td>\n",
       "      <td>99</td>\n",
       "      <td>86.884637</td>\n",
       "      <td>13307.583333</td>\n",
       "      <td>24</td>\n",
       "      <td>56</td>\n",
       "      <td>261.516736</td>\n",
       "    </tr>\n",
       "    <tr>\n",
       "      <th>504</th>\n",
       "      <td>Spp;</td>\n",
       "      <td>100</td>\n",
       "      <td>86.900144</td>\n",
       "      <td>13305.000000</td>\n",
       "      <td>24</td>\n",
       "      <td>55</td>\n",
       "      <td>259.933908</td>\n",
       "    </tr>\n",
       "  </tbody>\n",
       "</table>\n",
       "<p>505 rows × 7 columns</p>\n",
       "</div>"
      ],
      "text/plain": [
       "    algorithm  step  overall_occupation  overall_power_consumption  \\\n",
       "0        Dcf;     0            0.000000                2622.000000   \n",
       "1        Dcf;     1           87.200847               13332.000000   \n",
       "2        Dcf;     2           87.200847               13332.000000   \n",
       "3        Dcf;     3           87.200847               13332.000000   \n",
       "4        Dcf;     4           87.200847               13332.000000   \n",
       "..        ...   ...                 ...                        ...   \n",
       "500      Spp;    96           86.900144               13305.000000   \n",
       "501      Spp;    97           86.884637               13307.583333   \n",
       "502      Spp;    98           86.900144               13305.000000   \n",
       "503      Spp;    99           86.884637               13307.583333   \n",
       "504      Spp;   100           86.900144               13305.000000   \n",
       "\n",
       "     delay_sla_violations  privacy_sla_violations        Cost  \n",
       "0                      24                       0    0.000000  \n",
       "1                      24                      34  221.578944  \n",
       "2                      24                      34  221.578944  \n",
       "3                      24                      34  221.578944  \n",
       "4                      24                      34  221.578944  \n",
       "..                    ...                     ...         ...  \n",
       "500                    24                      55  259.933908  \n",
       "501                    24                      56  261.516736  \n",
       "502                    24                      55  259.933908  \n",
       "503                    24                      56  261.516736  \n",
       "504                    24                      55  259.933908  \n",
       "\n",
       "[505 rows x 7 columns]"
      ]
     },
     "execution_count": 17,
     "metadata": {},
     "output_type": "execute_result"
    }
   ],
   "source": [
    "df = pd.DataFrame(data)\n",
    "df = df[[\"algorithm\", \"step\", \"overall_occupation\", \"overall_power_consumption\", \"delay_sla_violations\", \"privacy_sla_violations\"]]\n",
    "# Calcular a coluna de custo usando a média geométrica\n",
    "df[\"Cost\"] = df[[\"overall_power_consumption\", \"delay_sla_violations\", \"privacy_sla_violations\"]].apply(gmean, axis=1)\n",
    "df\n"
   ]
  },
  {
   "cell_type": "markdown",
   "metadata": {},
   "source": [
    "## media"
   ]
  },
  {
   "cell_type": "code",
   "execution_count": 18,
   "metadata": {},
   "outputs": [
    {
     "name": "stdout",
     "output_type": "stream",
     "text": [
      "                step  overall_occupation  overall_power_consumption  \\\n",
      "algorithm                                                             \n",
      "Argos;          50.5           87.200847               13332.000000   \n",
      "Dcf;            50.5           87.200847               13332.000000   \n",
      "Faticanti2020;  50.5           87.200847               13332.000000   \n",
      "Spp;            50.5           86.834763               13286.794167   \n",
      "Thea;           50.5           87.200847               13332.000000   \n",
      "\n",
      "                delay_sla_violations  privacy_sla_violations        Cost  \n",
      "algorithm                                                                 \n",
      "Argos;                          24.0                   39.00  231.947868  \n",
      "Dcf;                            24.0                   34.00  221.578944  \n",
      "Faticanti2020;                  24.0                   47.00  246.832003  \n",
      "Spp;                            24.0                   56.07  261.483219  \n",
      "Thea;                           24.0                   20.00  185.657364  \n"
     ]
    }
   ],
   "source": [
    "\n",
    "# Filtrar as linhas onde step é diferente de 0\n",
    "df_filtered = df[df[\"step\"] != 0]\n",
    "\n",
    "# Agrupar por algoritmo e calcular a média de cada coluna\n",
    "average_df = df_filtered.groupby(\"algorithm\").mean()\n",
    "\n",
    "# Exibir o DataFrame resultante\n",
    "print(average_df)"
   ]
  },
  {
   "cell_type": "markdown",
   "metadata": {},
   "source": [
    "## mediana"
   ]
  },
  {
   "cell_type": "code",
   "execution_count": 19,
   "metadata": {},
   "outputs": [
    {
     "name": "stdout",
     "output_type": "stream",
     "text": [
      "                step  overall_occupation  overall_power_consumption  \\\n",
      "algorithm                                                             \n",
      "Argos;          50.5           87.200847               13332.000000   \n",
      "Dcf;            50.5           87.200847               13332.000000   \n",
      "Faticanti2020;  50.5           87.200847               13332.000000   \n",
      "Spp;            50.5           86.826767               13281.520833   \n",
      "Thea;           50.5           87.200847               13332.000000   \n",
      "\n",
      "                delay_sla_violations  privacy_sla_violations        Cost  \n",
      "algorithm                                                                 \n",
      "Argos;                          24.0                    39.0  231.947868  \n",
      "Dcf;                            24.0                    34.0  221.578944  \n",
      "Faticanti2020;                  24.0                    47.0  246.832003  \n",
      "Spp;                            24.0                    56.0  261.499813  \n",
      "Thea;                           24.0                    20.0  185.657364  \n"
     ]
    }
   ],
   "source": [
    "# Agrupar por algoritmo e calcular a mediana de cada coluna\n",
    "median_df = df_filtered.groupby(\"algorithm\").median()\n",
    "\n",
    "# Exibir o DataFrame resultante\n",
    "print(median_df)"
   ]
  },
  {
   "cell_type": "markdown",
   "metadata": {},
   "source": [
    "## Desvio"
   ]
  },
  {
   "cell_type": "code",
   "execution_count": 20,
   "metadata": {},
   "outputs": [
    {
     "name": "stdout",
     "output_type": "stream",
     "text": [
      "                     step  overall_occupation  overall_power_consumption  \\\n",
      "algorithm                                                                  \n",
      "Argos;          29.011492            0.000000                    0.00000   \n",
      "Dcf;            29.011492            0.000000                    0.00000   \n",
      "Faticanti2020;  29.011492            0.000000                    0.00000   \n",
      "Spp;            29.011492            0.051715                   18.29297   \n",
      "Thea;           29.011492            0.000000                    0.00000   \n",
      "\n",
      "                delay_sla_violations  privacy_sla_violations      Cost  \n",
      "algorithm                                                               \n",
      "Argos;                           0.0                0.000000  0.000000  \n",
      "Dcf;                             0.0                0.000000  0.000000  \n",
      "Faticanti2020;                   0.0                0.000000  0.000000  \n",
      "Spp;                             0.0                0.819645  1.298635  \n",
      "Thea;                            0.0                0.000000  0.000000  \n"
     ]
    }
   ],
   "source": [
    "# Filtrar as linhas onde step é diferente de 0\n",
    "df_filtered = df[df[\"step\"] != 0]\n",
    "\n",
    "# Agrupar por algoritmo e calcular o desvio padrão de cada coluna\n",
    "std_df = df_filtered.groupby(\"algorithm\").std()\n",
    "\n",
    "# Exibir o DataFrame resultante\n",
    "print(std_df)"
   ]
  },
  {
   "cell_type": "markdown",
   "metadata": {},
   "source": [
    "## quartis"
   ]
  },
  {
   "cell_type": "code",
   "execution_count": 21,
   "metadata": {},
   "outputs": [
    {
     "name": "stdout",
     "output_type": "stream",
     "text": [
      "                step_Q25  step_Q50  step_Q75  overall_occupation_Q25  \\\n",
      "algorithm                                                              \n",
      "Argos;             25.75      50.5     75.25               87.200847   \n",
      "Dcf;               25.75      50.5     75.25               87.200847   \n",
      "Faticanti2020;     25.75      50.5     75.25               87.200847   \n",
      "Spp;               25.75      50.5     75.25               86.811261   \n",
      "Thea;              25.75      50.5     75.25               87.200847   \n",
      "\n",
      "                overall_occupation_Q50  overall_occupation_Q75  \\\n",
      "algorithm                                                        \n",
      "Argos;                       87.200847               87.200847   \n",
      "Dcf;                         87.200847               87.200847   \n",
      "Faticanti2020;               87.200847               87.200847   \n",
      "Spp;                         86.826767               86.884637   \n",
      "Thea;                        87.200847               87.200847   \n",
      "\n",
      "                overall_power_consumption_Q25  overall_power_consumption_Q50  \\\n",
      "algorithm                                                                      \n",
      "Argos;                             13332.0000                   13332.000000   \n",
      "Dcf;                               13332.0000                   13332.000000   \n",
      "Faticanti2020;                     13332.0000                   13332.000000   \n",
      "Spp;                               13278.9375                   13281.520833   \n",
      "Thea;                              13332.0000                   13332.000000   \n",
      "\n",
      "                overall_power_consumption_Q75  delay_sla_violations_Q25  \\\n",
      "algorithm                                                                 \n",
      "Argos;                                13332.0                      24.0   \n",
      "Dcf;                                  13332.0                      24.0   \n",
      "Faticanti2020;                        13332.0                      24.0   \n",
      "Spp;                                  13305.0                      24.0   \n",
      "Thea;                                 13332.0                      24.0   \n",
      "\n",
      "                delay_sla_violations_Q50  delay_sla_violations_Q75  \\\n",
      "algorithm                                                            \n",
      "Argos;                              24.0                      24.0   \n",
      "Dcf;                                24.0                      24.0   \n",
      "Faticanti2020;                      24.0                      24.0   \n",
      "Spp;                                24.0                      24.0   \n",
      "Thea;                               24.0                      24.0   \n",
      "\n",
      "                privacy_sla_violations_Q25  privacy_sla_violations_Q50  \\\n",
      "algorithm                                                                \n",
      "Argos;                                39.0                        39.0   \n",
      "Dcf;                                  34.0                        34.0   \n",
      "Faticanti2020;                        47.0                        47.0   \n",
      "Spp;                                  55.0                        56.0   \n",
      "Thea;                                 20.0                        20.0   \n",
      "\n",
      "                privacy_sla_violations_Q75    Cost_Q25    Cost_Q50    Cost_Q75  \n",
      "algorithm                                                                       \n",
      "Argos;                                39.0  231.947868  231.947868  231.947868  \n",
      "Dcf;                                  34.0  221.578944  221.578944  221.578944  \n",
      "Faticanti2020;                        47.0  246.832003  246.832003  246.832003  \n",
      "Spp;                                  57.0  259.933908  261.499813  262.875316  \n",
      "Thea;                                 20.0  185.657364  185.657364  185.657364  \n"
     ]
    }
   ],
   "source": [
    "# Selecionar as colunas de interesse\n",
    "df = df[[\"algorithm\", \"step\", \"overall_occupation\", \"overall_power_consumption\", \"delay_sla_violations\", \"privacy_sla_violations\"]]\n",
    "\n",
    "# Calcular a coluna de custo usando a média geométrica\n",
    "df[\"Cost\"] = df[[\"overall_power_consumption\", \"delay_sla_violations\", \"privacy_sla_violations\"]].apply(gmean, axis=1)\n",
    "\n",
    "# Filtrar as linhas onde step é diferente de 0\n",
    "df_filtered = df[df[\"step\"] != 0]\n",
    "\n",
    "# Definir os quantis que queremos calcular\n",
    "quantiles = [0.25, 0.5, 0.75]\n",
    "\n",
    "# Agrupar por algoritmo e calcular os quartis\n",
    "quartiles_df = df_filtered.groupby(\"algorithm\").quantile(quantiles).unstack(level=-1)\n",
    "\n",
    "# Renomear as colunas para refletir os quartis\n",
    "quartiles_df.columns = ['{}_Q{}'.format(col, int(q*100)) for col, q in quartiles_df.columns]\n",
    "\n",
    "# Exibir o DataFrame resultante\n",
    "print(quartiles_df)"
   ]
  },
  {
   "cell_type": "code",
   "execution_count": 22,
   "metadata": {},
   "outputs": [
    {
     "data": {
      "image/png": "[encoded data removed]",
      "text/plain": [
       "<Figure size 1000x600 with 1 Axes>"
      ]
     },
     "metadata": {},
     "output_type": "display_data"
    },
    {
     "data": {
      "image/png": "[encoded data removed]",
      "text/plain": [
       "<Figure size 1000x600 with 1 Axes>"
      ]
     },
     "metadata": {},
     "output_type": "display_data"
    },
    {
     "data": {
      "image/png": "[encoded data removed]",
      "text/plain": [
       "<Figure size 1000x600 with 1 Axes>"
      ]
     },
     "metadata": {},
     "output_type": "display_data"
    },
    {
     "data": {
      "image/png": "[encoded data removed]",
      "text/plain": [
       "<Figure size 1000x600 with 1 Axes>"
      ]
     },
     "metadata": {},
     "output_type": "display_data"
    },
    {
     "data": {
      "image/png": "[encoded data removed]",
      "text/plain": [
       "<Figure size 1000x600 with 1 Axes>"
      ]
     },
     "metadata": {},
     "output_type": "display_data"
    }
   ],
   "source": [
    "matplotlib.rc('font', size=18)  # Tamanho geral da fonte\n",
    "matplotlib.rc('axes', titlesize=18)  # Tamanho da fonte para os títulos dos eixos\n",
    "matplotlib.rc('axes', labelsize=18)  # Tamanho da fonte para os rótulos dos eixos\n",
    "matplotlib.rc('xtick', labelsize=18)  # Tamanho da fonte para os rótulos do eixo x\n",
    "matplotlib.rc('ytick', labelsize=18)  # Tamanho da fonte para os rótulos do eixo y\n",
    "matplotlib.rc('legend', fontsize=18)  # Tamanho da fonte para a legenda\n",
    "matplotlib.rc('figure', titlesize=18)\n",
    "# Selecione as colunas relevantes\n",
    "columns_to_plot = [\"overall_occupation\", \"overall_power_consumption\", \"delay_sla_violations\", \"privacy_sla_violations\"]\n",
    "\n",
    "# Calcule a coluna \"Cost\"\n",
    "df[\"cost\"] = df[[\"overall_power_consumption\", \"delay_sla_violations\", \"privacy_sla_violations\"]].apply(gmean, axis=1)\n",
    "\n",
    "# Adicione \"Cost\" às colunas a serem plotadas\n",
    "columns_to_plot.append(\"cost\")\n",
    "\n",
    "# Filtre o DataFrame para remover os steps 0 de cada algoritmo\n",
    "df_filtered = df[df[\"step\"] != 0]\n",
    "\n",
    "# Defina o diretório de saída e crie se não existir\n",
    "output_dir = '/home/pandini/Desktop/thea/thea/imagens_dataset2'\n",
    "if not os.path.exists(output_dir):\n",
    "    os.makedirs(output_dir)\n",
    "\n",
    "# Itere sobre as colunas relevantes e crie um boxplot para cada uma\n",
    "for column in columns_to_plot:\n",
    "    plt.figure(figsize=(10, 6))\n",
    "    sns.boxplot(x='algorithm', y=column, data=df_filtered)\n",
    "    plt.xlabel(' ')\n",
    "    plt.ylabel(column.replace(\"_\", \" \").title())\n",
    "    plt.xticks(rotation=45)\n",
    "    \n",
    "    # Defina o limite do eixo Y começando em 0\n",
    "    plt.ylim(bottom=0)\n",
    "    \n",
    "    # Salva o plot\n",
    "    file_name = f'{column}.png'\n",
    "    file_path = os.path.join(output_dir, file_name)\n",
    "    plt.savefig(file_path, bbox_inches='tight')\n",
    "    \n",
    "    # Mostre o plot (removido plt.show() para evitar pausar o script)\n",
    "    plt.show()\n",
    "    \n",
    "    # Fecha a figura para liberar a memória\n",
    "    plt.close()"
   ]
  },
  {
   "cell_type": "code",
   "execution_count": null,
   "metadata": {},
   "outputs": [],
   "source": [
    "import matplotlib.pyplot as plt\n",
    "\n",
    "# Plotando o gráfico de linha para 'overall_occupation' ao longo dos passos da simulação\n",
    "plt.figure(figsize=(10, 6))\n",
    "for alg in df[\"algorithm\"].unique():\n",
    "    df_alg = df[df[\"algorithm\"] == alg]\n",
    "    plt.plot(df_alg[\"step\"].values, df_alg[\"overall_occupation\"].values, label=alg)\n",
    "\n",
    "plt.xlabel(\"Step\")\n",
    "plt.ylabel(\"Overall Occupation\")\n",
    "plt.title(\"Overall Occupation over Simulation Steps\")\n",
    "plt.legend()\n",
    "plt.grid(True)\n",
    "plt.show()\n"
   ]
  },
  {
   "cell_type": "code",
   "execution_count": null,
   "metadata": {},
   "outputs": [],
   "source": [
    "# Define o diretório onde os plots serão salvos\n",
    "import os\n",
    "output_dir = '/home/pandini/Desktop/thea/thea/imagens_dataset2'  # Altere este caminho para o diretório desejado\n",
    "if not os.path.exists(output_dir):\n",
    "    os.makedirs(output_dir)\n",
    "\n",
    "# Lista das colunas exceto \"step\" e \"step_group\", com substituição de \"_\" por espaço\n",
    "columns_to_plot_original = [col for col in df.columns if col not in ['step', 'step_group', 'algorithm', 'algorithm_name']]\n",
    "columns_to_plot_display = [col.replace('_', ' ') for col in columns_to_plot_original]\n",
    "\n",
    "# Determina os limites dos grupos\n",
    "min_step = df['step'].min()\n",
    "max_step = df['step'].max()\n",
    "step_bins = range(min_step, max_step + 10, 10)  # Ajustado para garantir que o valor máximo esteja incluído\n",
    "\n",
    "# Para cada algoritmo, cria os boxplots\n",
    "for algorithm in df['algorithm'].unique():\n",
    "    # Extrai o nome do algoritmo após o sinal de \"=\" e capitaliza a primeira letra\n",
    "    algorithm_name = algorithm.split('=')[1].strip().capitalize()\n",
    "    df_algorithm = df[df['algorithm'] == algorithm]\n",
    "    df_algorithm.loc[:, 'step_group'] = pd.cut(df_algorithm['step'], bins=step_bins, right=False)\n",
    "    \n",
    "    for original_col, display_col in zip(columns_to_plot_original, columns_to_plot_display):\n",
    "        plt.figure(figsize=(10, 6))\n",
    "        sns.boxplot(x=\"step_group\", y=original_col, data=df_algorithm)\n",
    "        plt.title(f'{display_col} {algorithm_name}')\n",
    "        plt.xlabel('Grupo de etapas')\n",
    "        plt.ylabel(display_col)\n",
    "        plt.grid(True)  # Adiciona o grid\n",
    "        plt.xticks(rotation=45)  # Rotaciona os rótulos do eixo x para facilitar a leitura\n",
    "        \n",
    "        # Define o caminho completo do arquivo de saída\n",
    "        file_name = f'{display_col}_{algorithm_name}.png'.replace(' ', '_')\n",
    "        file_path = os.path.join(output_dir, file_name)\n",
    "        \n",
    "        # Salva o plot\n",
    "        plt.savefig(file_path, bbox_inches='tight')\n",
    "        plt.close()\n"
   ]
  },
  {
   "cell_type": "code",
   "execution_count": null,
   "metadata": {},
   "outputs": [],
   "source": [
    "def plot_metric(df, metric):\n",
    "    plt.figure(figsize=(10, 6))\n",
    "    for alg in df[\"algorithm\"].unique():\n",
    "        df_alg = df[df[\"algorithm\"] == alg]\n",
    "        plt.plot(df_alg[\"step\"].values, df_alg[metric].values, label=alg)\n",
    "    \n",
    "    plt.xlabel(\"Step\")\n",
    "    plt.ylabel(metric.replace('_', ' ').title())\n",
    "    plt.title(f\"{metric.replace('_', ' ').title()} over Simulation Steps\")\n",
    "    plt.legend()\n",
    "    plt.grid(True)\n",
    "    plt.show()\n",
    "\n",
    "# Plotando gráficos para as diferentes métricas\n",
    "metrics = [\"overall_occupation\", \"overall_power_consumption\", \"delay_sla_violations\", \"privacy_sla_violations\"]\n",
    "for metric in metrics:\n",
    "    plot_metric(df, metric)"
   ]
  },
  {
   "cell_type": "code",
   "execution_count": null,
   "metadata": {},
   "outputs": [],
   "source": [
    "# Diretório para salvar as imagens\n",
    "output_dir = \"/home/pandini/Desktop/thea/thea/imagens_dataset2\"\n",
    "\n",
    "# Verificar se o diretório de saída existe, senão, criá-lo\n",
    "if not os.path.exists(output_dir):\n",
    "    os.makedirs(output_dir)\n",
    "\n",
    "# Função para formatar o nome dos algoritmos\n",
    "def format_algorithm_name(algorithm):\n",
    "    # Substituir \"_\" por espaços, remover os pontos e vírgulas e capitalizar o início de cada palavra\n",
    "    return algorithm.split(\"=\")[-1].strip().replace(\"_\", \" \").replace(\";\", \"\").title()\n",
    "\n",
    "# Substituir \"_\" por espaços nos nomes das colunas\n",
    "column_names = [column.split(\"=\")[-1].strip().replace(\"_\", \" \") for column in df.columns[1:]]\n",
    "\n",
    "# Aplicar a formatação aos nomes dos algoritmos\n",
    "algorithm_names = [format_algorithm_name(algorithm) for algorithm in df[\"algorithm\"]]\n",
    "\n",
    "# Gerar os gráficos de barra para cada coluna\n",
    "for column, name in zip(df.columns[1:], column_names):\n",
    "    plt.figure(figsize=(8, 6))\n",
    "    plt.bar(algorithm_names, df[column], color='skyblue')\n",
    "    plt.xlabel(\"Algorithm\")\n",
    "    plt.ylabel(name.title())  # Aplicar a formatação nos rótulos do eixo y\n",
    "    plt.title(f\"Bar Chart for {name}\")\n",
    "    # Salvar o gráfico na pasta de saída com o nome adequado\n",
    "    output_filename = os.path.join(output_dir, f\"bar_chart_{name.replace(' ', '_').lower()}.png\")\n",
    "    plt.savefig(output_filename, dpi=120)\n",
    "    \n",
    "    plt.show()"
   ]
  },
  {
   "cell_type": "code",
   "execution_count": null,
   "metadata": {},
   "outputs": [],
   "source": [
    "df.loc[:, (\"Cost\")] = df[[\"overall_power_consumption\", \"delay_sla_violations\", \"privacy_sla_violations\"]].apply(gmean, axis=1)\n",
    "df = df.sort_values(by=[\"Cost\"])\n",
    "df\n"
   ]
  },
  {
   "cell_type": "code",
   "execution_count": null,
   "metadata": {},
   "outputs": [],
   "source": [
    "output_dir = \"/home/pandini/Desktop/thea/thea/imagens_dataset2\"\n",
    "\n",
    "# Verificar se o diretório de saída existe, senão, criá-lo\n",
    "if not os.path.exists(output_dir):\n",
    "    os.makedirs(output_dir)\n",
    "\n",
    "# Função para formatar o nome dos algoritmos\n",
    "def format_algorithm_name(algorithm):\n",
    "    # Substituir \"_\" por espaços, remover os pontos e vírgulas e capitalizar o início de cada palavra\n",
    "    return algorithm.split(\"=\")[-1].strip().replace(\"_\", \" \").replace(\";\", \"\").title()\n",
    "\n",
    "# Substituir \"_\" por espaços nos nomes das colunas\n",
    "column_names = [column.split(\"=\")[-1].strip().replace(\"_\", \" \") for column in df.columns[1:]]\n",
    "\n",
    "# Aplicar a formatação aos nomes dos algoritmos\n",
    "df[\"formatted_algorithm\"] = [format_algorithm_name(algorithm) for algorithm in df[\"algorithm\"]]\n",
    "\n",
    "# Gerar os gráficos de barra para cada coluna\n",
    "for column, name in zip(df.columns[1:], column_names):\n",
    "    # Ordenar o DataFrame pela coluna atual de forma crescente\n",
    "    sorted_df = df.sort_values(by=column)\n",
    "    \n",
    "    plt.figure(figsize=(8, 6))\n",
    "    plt.bar(sorted_df[\"formatted_algorithm\"], sorted_df[column], color='skyblue')\n",
    "    plt.xlabel(\"Algorithm\")\n",
    "    plt.ylabel(name.title())  # Aplicar a formatação nos rótulos do eixo y\n",
    "    plt.title(f\"Bar Chart for {name}\")\n",
    "    \n",
    "    # Salvar o gráfico na pasta de saída com o nome adequado\n",
    "    output_filename = os.path.join(output_dir, f\"bar_chart_{name.replace(' ', '_').lower()}.png\")\n",
    "    plt.savefig(output_filename, dpi=120)\n",
    "    \n",
    "    plt.show()"
   ]
  },
  {
   "cell_type": "code",
   "execution_count": null,
   "metadata": {},
   "outputs": [],
   "source": [
    "def read_results(path):\n",
    "\n",
    "    data = []\n",
    "    for algorithm in glob(path):\n",
    "        for log in glob(algorithm + \"/*\"):\n",
    "            if \"User\" in log:\n",
    "                with open(log, \"rb\") as f:\n",
    "                    metrics = msgpack.load(f, strict_map_key=False)[-1]\n",
    "                    metrics[\"algorithm\"] = algorithm\n",
    "                    data.append(metrics)\n",
    "\n",
    "    return data\n",
    "\n",
    "\n",
    "data = read_results(\"logs/*\")"
   ]
  },
  {
   "cell_type": "code",
   "execution_count": null,
   "metadata": {},
   "outputs": [],
   "source": [
    "df = pd.DataFrame(data)\n",
    "df = df[[\"Object\", \"Time Step\", \"Instance ID\", \"Coordinates\", \"Base Station\"]]\n",
    "df\n"
   ]
  },
  {
   "cell_type": "code",
   "execution_count": null,
   "metadata": {},
   "outputs": [],
   "source": [
    "df[\"Algorithm\"] = df[\"algorithm\"].apply(lambda x: x.split(\";\")[0].split(\"=\")[1])\n",
    "\n",
    "df.loc[df.Algorithm == \"nsgaii\", \"PopSize\"] = df.loc[df.Algorithm == \"nsgaii\", \"algorithm\"].apply(\n",
    "    lambda x: int(x.split(\";\")[1].split(\"=\")[1])\n",
    ")\n",
    "df.loc[df.Algorithm == \"nsgaii\", \"NGen\"] = df.loc[df.Algorithm == \"nsgaii\", \"algorithm\"].apply(\n",
    "    lambda x: int(x.split(\";\")[2].split(\"=\")[1])\n",
    ")\n",
    "df.loc[df.Algorithm == \"nsgaii\", \"CrossProb\"] = df.loc[df.Algorithm == \"nsgaii\", \"algorithm\"].apply(\n",
    "    lambda x: float(x.split(\";\")[3].split(\"=\")[1])\n",
    ")\n",
    "df.loc[df.Algorithm == \"nsgaii\", \"MutProb\"] = df.loc[df.Algorithm == \"nsgaii\", \"algorithm\"].apply(\n",
    "    lambda x: float(x.split(\";\")[4].split(\"=\")[1])\n",
    ")\n",
    "\n",
    "df\n"
   ]
  },
  {
   "cell_type": "code",
   "execution_count": null,
   "metadata": {},
   "outputs": [],
   "source": [
    "df[[\"algorithm\", \"Algorithm\", \"PopSize\", \"NGen\", \"CrossProb\", \"MutProb\"]].head(5)\n"
   ]
  },
  {
   "cell_type": "code",
   "execution_count": null,
   "metadata": {},
   "outputs": [],
   "source": [
    "# Save NSGA-II sensitivity analysis results\n",
    "nsgaii_df = df.query(\"Algorithm == 'nsgaii' and PopSize == 300\").copy()\n",
    "\n",
    "nsgaii_df[\n",
    "    [\n",
    "        \"Algorithm\",\n",
    "        \"PopSize\",\n",
    "        \"NGen\",\n",
    "        \"CrossProb\",\n",
    "        \"MutProb\",\n",
    "        \"overall_occupation\",\n",
    "        \"overall_power_consumption\",\n",
    "        \"delay_sla_violations\",\n",
    "        \"privacy_sla_violations\",\n",
    "        \"Cost\",\n",
    "    ]\n",
    "].to_csv(\"NSGA-II-Sensitivity-Analysis.csv\", index=False, sep=\",\")\n"
   ]
  },
  {
   "cell_type": "code",
   "execution_count": null,
   "metadata": {},
   "outputs": [],
   "source": []
  },
  {
   "cell_type": "code",
   "execution_count": null,
   "metadata": {},
   "outputs": [],
   "source": []
  },
  {
   "cell_type": "code",
   "execution_count": null,
   "metadata": {},
   "outputs": [],
   "source": []
  },
  {
   "cell_type": "markdown",
   "metadata": {},
   "source": [
    "### Crossover and Mutation Probability Heatmap"
   ]
  },
  {
   "cell_type": "code",
   "execution_count": null,
   "metadata": {},
   "outputs": [],
   "source": [
    "nsgaii_pivot_df = pd.pivot_table(nsgaii_df, values=\"Cost\", index=\"CrossProb\", columns=\"MutProb\", aggfunc=np.min)\n",
    "nsgaii_pivot_df\n"
   ]
  },
  {
   "cell_type": "code",
   "execution_count": null,
   "metadata": {},
   "outputs": [],
   "source": [
    "mut_prob = nsgaii_pivot_df.columns.values\n",
    "mut_prob\n"
   ]
  },
  {
   "cell_type": "code",
   "execution_count": null,
   "metadata": {},
   "outputs": [],
   "source": [
    "cross_prob = nsgaii_pivot_df.index.values\n",
    "cross_prob\n"
   ]
  },
  {
   "cell_type": "markdown",
   "metadata": {},
   "source": [
    "#### Set Custom Font"
   ]
  },
  {
   "cell_type": "code",
   "execution_count": null,
   "metadata": {},
   "outputs": [],
   "source": [
    "!mkdir dependencies\n",
    "!wget 'https://fonts.google.com/download?family=Roboto' -O dependencies/roboto.zip\n",
    "!unzip -o dependencies/roboto.zip -d dependencies/roboto"
   ]
  },
  {
   "cell_type": "code",
   "execution_count": null,
   "metadata": {},
   "outputs": [],
   "source": [
    "import matplotlib.font_manager\n",
    "\n",
    "matplotlib.font_manager.findSystemFonts(fontpaths=\"dependencies/roboto\", fontext=\"ttf\")\n"
   ]
  },
  {
   "cell_type": "code",
   "execution_count": null,
   "metadata": {},
   "outputs": [],
   "source": [
    "font_path = os.path.join(os.getcwd(), \"dependencies/roboto/Roboto-Regular.ttf\")\n",
    "font_path\n"
   ]
  },
  {
   "cell_type": "code",
   "execution_count": null,
   "metadata": {},
   "outputs": [],
   "source": [
    "import matplotlib.font_manager as font_manager\n",
    "import matplotlib as mpl\n",
    "import os\n",
    "\n",
    "prop = font_manager.FontProperties(fname=font_path)\n",
    "plt.rcParams[\"font.family\"] = prop.get_name()\n",
    "plt.rcParams[\"font.weight\"] = 300\n"
   ]
  },
  {
   "cell_type": "markdown",
   "metadata": {},
   "source": [
    "#### Plot"
   ]
  },
  {
   "cell_type": "code",
   "execution_count": null,
   "metadata": {},
   "outputs": [],
   "source": [
    "import matplotlib.colors as colors\n",
    "\n",
    "fig, ax = plt.subplots(figsize=(12, 6))\n",
    "\n",
    "cmap = colors.ListedColormap(plt.cm.Greys(np.linspace(0.25, 1, 10)), \"name\")\n",
    "\n",
    "ax = sns.heatmap(\n",
    "    nsgaii_pivot_df.values,\n",
    "    annot=True,\n",
    "    fmt=\".2f\",\n",
    "    cmap=cmap,\n",
    "    xticklabels=mut_prob,\n",
    "    yticklabels=cross_prob,\n",
    "    annot_kws={\"size\": 15},  # \"family\": \"roboto\"},\n",
    "    cbar_kws={\"orientation\": \"vertical\", \"pad\": 0.01},\n",
    ")\n",
    "\n",
    "ax.invert_yaxis()\n",
    "\n",
    "cbar = ax.collections[0].colorbar\n",
    "cbar.ax.tick_params(labelsize=15)\n",
    "\n",
    "ax.tick_params(axis=\"both\", which=\"major\", labelsize=16)\n",
    "\n",
    "ax.set_xlabel(\"Mutation Probability\", fontsize=18, fontweight=\"bold\")\n",
    "ax.set_ylabel(\"Crossover Probability\", fontsize=18, fontweight=\"bold\")\n",
    "\n",
    "plt.savefig(f\"nsgaii-probability-heatmap.pdf\", dpi=300, bbox_inches=\"tight\")\n"
   ]
  },
  {
   "cell_type": "code",
   "execution_count": null,
   "metadata": {},
   "outputs": [],
   "source": []
  },
  {
   "cell_type": "markdown",
   "metadata": {},
   "source": [
    "### Best Parameters"
   ]
  },
  {
   "cell_type": "code",
   "execution_count": null,
   "metadata": {},
   "outputs": [],
   "source": [
    "best = nsgaii_df[\n",
    "    [\n",
    "        \"algorithm\",\n",
    "        \"Algorithm\",\n",
    "        \"PopSize\",\n",
    "        \"NGen\",\n",
    "        \"CrossProb\",\n",
    "        \"MutProb\",\n",
    "        \"overall_occupation\",\n",
    "        \"overall_power_consumption\",\n",
    "        \"delay_sla_violations\",\n",
    "        \"privacy_sla_violations\",\n",
    "        \"Cost\",\n",
    "    ]\n",
    "].copy()\n",
    "\n",
    "best.sort_values(by=[\"Cost\", \"NGen\"], inplace=True)\n",
    "\n",
    "best.head(20)\n"
   ]
  },
  {
   "cell_type": "code",
   "execution_count": null,
   "metadata": {},
   "outputs": [],
   "source": [
    "best_nsgaii_parameters = best.iloc[0, 0]\n",
    "best_nsgaii_parameters\n"
   ]
  },
  {
   "cell_type": "code",
   "execution_count": null,
   "metadata": {},
   "outputs": [],
   "source": []
  },
  {
   "cell_type": "markdown",
   "metadata": {},
   "source": [
    "## Results"
   ]
  },
  {
   "cell_type": "code",
   "execution_count": null,
   "metadata": {},
   "outputs": [],
   "source": [
    "algorithms = [\n",
    "    \"logs/algorithm=argos;\",\n",
    "    \"logs/algorithm=faticanti2020;\",\n",
    "    \"logs/algorithm=thea;\",\n",
    "    best_nsgaii_parameters,\n",
    "]\n",
    "\n",
    "algorithms"
   ]
  },
  {
   "cell_type": "code",
   "execution_count": null,
   "metadata": {},
   "outputs": [],
   "source": [
    "results = []\n",
    "for row in data:\n",
    "    if row[\"algorithm\"] in algorithms:\n",
    "        print(\"algorithm: {}\".format(row[\"algorithm\"]))\n",
    "        row[\"Algorithm\"] = row[\"algorithm\"].split(\";\")[0].split(\"=\")[1]\n",
    "        results.append(row)\n"
   ]
  },
  {
   "cell_type": "code",
   "execution_count": null,
   "metadata": {},
   "outputs": [],
   "source": [
    "results_df = pd.DataFrame(results)\n",
    "\n",
    "results_df[\n",
    "    [\"algorithm\", \"overall_occupation\", \"overall_power_consumption\", \"delay_sla_violations\", \"privacy_sla_violations\"]\n",
    "].sort_values(by=[\"algorithm\"], ascending=True).reset_index(drop=True)\n"
   ]
  },
  {
   "cell_type": "code",
   "execution_count": null,
   "metadata": {},
   "outputs": [],
   "source": [
    "for item in [\"provider\", \"model\", \"chain_size\", \"delay_sla\", \"privacy_requirement\"]:\n",
    "\n",
    "    df = pd.json_normalize(results, record_path=[item], meta=[\"algorithm\"])\n",
    "\n",
    "    # shift column 'algorithm' to first position\n",
    "    algorithm = df.pop(\"algorithm\")\n",
    "    df.insert(0, \"algorithm\", algorithm)\n",
    "\n",
    "    if item == \"model\":\n",
    "        df = df.sort_values(by=[\"algorithm\", \"model_name\"], ascending=True).reset_index(drop=True)\n",
    "\n",
    "    if item == \"privacy_requirement\":\n",
    "        df = df.sort_values(by=[\"algorithm\", \"privacy_requirement\"], ascending=True).reset_index(drop=True)\n",
    "\n",
    "    if item == \"chain_size\":\n",
    "        df = df.sort_values(by=[\"algorithm\", \"chain_size\"], ascending=True).reset_index(drop=True)\n",
    "\n",
    "    display(df)\n"
   ]
  },
  {
   "cell_type": "code",
   "execution_count": null,
   "metadata": {},
   "outputs": [],
   "source": []
  },
  {
   "cell_type": "code",
   "execution_count": null,
   "metadata": {},
   "outputs": [],
   "source": []
  },
  {
   "cell_type": "markdown",
   "metadata": {},
   "source": [
    "## Custom Metrics"
   ]
  },
  {
   "cell_type": "code",
   "execution_count": null,
   "metadata": {},
   "outputs": [],
   "source": [
    "def read_algorithms_results(path, algorithms, item):\n",
    "\n",
    "    dfs = []\n",
    "    for algorithm in glob(path):\n",
    "\n",
    "        if algorithm not in algorithms:\n",
    "            continue\n",
    "\n",
    "        print(algorithm)\n",
    "\n",
    "        with open(f\"{algorithm}/{item}.msgpack\", \"rb\") as f:\n",
    "            data = msgpack.load(f, strict_map_key=False)\n",
    "\n",
    "        df = pd.DataFrame(data)\n",
    "        df.loc[:, (\"Algorithm\")] = algorithm.split(\"/\")[-1]\n",
    "        df = df[df[\"Time Step\"] == df[\"Time Step\"].max()]\n",
    "\n",
    "        dfs.append(df)\n",
    "\n",
    "    return dfs\n"
   ]
  },
  {
   "cell_type": "markdown",
   "metadata": {},
   "source": [
    "### Communication Path Size"
   ]
  },
  {
   "cell_type": "code",
   "execution_count": null,
   "metadata": {},
   "outputs": [],
   "source": [
    "def add_app_chain_size_and_delay_sla(df):\n",
    "    df.loc[:, (\"Application Chain Size\")] = [1, 1, 2, 2, 4, 4, 8, 8, 1, 1, 2, 2, 4, 4, 8, 8]\n",
    "    df.loc[:, (\"Delay SLA\")] = [3, 6, 3, 3, 6, 3, 6, 6, 3, 6, 3, 6, 3, 3, 6, 6]\n",
    "\n",
    "    return df\n"
   ]
  },
  {
   "cell_type": "code",
   "execution_count": null,
   "metadata": {},
   "outputs": [],
   "source": [
    "algorithms = [\n",
    "    \"logs/algorithm=argos;\",\n",
    "    \"logs/algorithm=faticanti2020;\",\n",
    "    \"logs/algorithm=thea;\",\n",
    "    best_nsgaii_parameters,\n",
    "]\n",
    "\n",
    "dfs = read_algorithms_results(\"logs/*\", algorithms, \"User\")\n",
    "\n",
    "df = pd.concat([add_app_chain_size_and_delay_sla(df) for df in dfs])\n"
   ]
  },
  {
   "cell_type": "code",
   "execution_count": null,
   "metadata": {},
   "outputs": [],
   "source": [
    "def compute_path_lengh(x):\n",
    "    path_len = 0\n",
    "\n",
    "    for path_list in x.values():\n",
    "        for sublist in path_list:\n",
    "            if (len(sublist) - 1) > 0:\n",
    "                path_len += len(sublist) - 1\n",
    "\n",
    "    return path_len\n",
    "\n",
    "\n",
    "assert compute_path_lengh({\"1\": [[78, 69, 61, 62, 63]]}) == 4\n",
    "assert compute_path_lengh({'5': [[10, 20, 21, 22, 23, 24], [], [], [24, 14]]}) == 6\n"
   ]
  },
  {
   "cell_type": "code",
   "execution_count": null,
   "metadata": {},
   "outputs": [],
   "source": [
    "get_dict_value = lambda x: list(x.values())[0]\n",
    "\n",
    "assert get_dict_value({\"1\": 4}) == 4\n"
   ]
  },
  {
   "cell_type": "code",
   "execution_count": null,
   "metadata": {},
   "outputs": [],
   "source": [
    "df = pd.concat(dfs)\n",
    "\n",
    "df[\"Delay Value\"] = df[\"Delays\"].map(get_dict_value)\n",
    "df[\"Delay SLA Violation\"] = df[\"Delay Value\"] > df[\"Delay SLA\"]\n",
    "df[\"Communication Path Size\"] = df[\"Communication Paths\"].map(compute_path_lengh)\n",
    "\n",
    "df[[\"Delays\", \"Delay Value\", \"Delay SLA\", \"Delay SLA Violation\"]].head(5)"
   ]
  },
  {
   "cell_type": "code",
   "execution_count": null,
   "metadata": {},
   "outputs": [],
   "source": [
    "gp = df.groupby([\"Algorithm\", \"Application Chain Size\"])[\"Communication Path Size\"].mean().reset_index()\n",
    "gp\n"
   ]
  },
  {
   "cell_type": "code",
   "execution_count": null,
   "metadata": {},
   "outputs": [],
   "source": [
    "# Communication Path Size by Application Chain Size\n",
    "gp.pivot_table(index=\"Application Chain Size\", columns=\"Algorithm\", values=\"Communication Path Size\")\n"
   ]
  },
  {
   "cell_type": "code",
   "execution_count": null,
   "metadata": {},
   "outputs": [],
   "source": []
  },
  {
   "cell_type": "code",
   "execution_count": null,
   "metadata": {},
   "outputs": [],
   "source": []
  },
  {
   "cell_type": "code",
   "execution_count": null,
   "metadata": {},
   "outputs": [],
   "source": []
  },
  {
   "cell_type": "markdown",
   "metadata": {},
   "source": [
    "### Delay SLA Violations by App Chain Size"
   ]
  },
  {
   "cell_type": "code",
   "execution_count": null,
   "metadata": {},
   "outputs": [],
   "source": [
    "gp = df.groupby([\"Algorithm\", \"Application Chain Size\"])[\"Delay SLA Violation\"].sum().reset_index()\n",
    "gp\n"
   ]
  },
  {
   "cell_type": "code",
   "execution_count": null,
   "metadata": {},
   "outputs": [],
   "source": [
    "# Delay SLA Violations by Application Chain Size\n",
    "gp.pivot_table(index=\"Algorithm\", columns=\"Application Chain Size\", values=\"Delay SLA Violation\")\n"
   ]
  },
  {
   "cell_type": "code",
   "execution_count": null,
   "metadata": {},
   "outputs": [],
   "source": []
  },
  {
   "cell_type": "code",
   "execution_count": null,
   "metadata": {},
   "outputs": [],
   "source": []
  },
  {
   "cell_type": "code",
   "execution_count": null,
   "metadata": {},
   "outputs": [],
   "source": []
  },
  {
   "cell_type": "code",
   "execution_count": null,
   "metadata": {},
   "outputs": [],
   "source": []
  },
  {
   "cell_type": "code",
   "execution_count": null,
   "metadata": {},
   "outputs": [],
   "source": []
  },
  {
   "cell_type": "markdown",
   "metadata": {},
   "source": [
    "### Number of Services on Servers with Exceeding Trust"
   ]
  },
  {
   "cell_type": "code",
   "execution_count": null,
   "metadata": {},
   "outputs": [],
   "source": [
    "# Importing EdgeSimPy components\n",
    "from edge_sim_py import *\n",
    "\n",
    "simulator = Simulator()\n",
    "simulator.initialize(input_file=\"datasets/dataset2.json\")\n"
   ]
  },
  {
   "cell_type": "code",
   "execution_count": null,
   "metadata": {},
   "outputs": [],
   "source": [
    "service_requirements = {}\n",
    "\n",
    "user_providers_trust = {}\n",
    "user_id_services = {}\n",
    "\n",
    "edge_server_ip = {}\n",
    "\n",
    "for user in User.all():\n",
    "    user_id_services[user.id] = []\n",
    "    user_providers_trust[user.id] = user.providers_trust\n",
    "\n",
    "    for app in user.applications:\n",
    "        for service in app.services:\n",
    "            user_id_services[user.id].append(service.id)\n",
    "            service_requirements[service.id] = service.privacy_requirement\n",
    "\n",
    "for edge_server in EdgeServer.all():\n",
    "    edge_server_ip[edge_server.id] = edge_server.infrastructure_provider\n",
    "\n",
    "user_id_services\n"
   ]
  },
  {
   "cell_type": "code",
   "execution_count": null,
   "metadata": {},
   "outputs": [],
   "source": [
    "print(service_requirements)\n"
   ]
  },
  {
   "cell_type": "code",
   "execution_count": null,
   "metadata": {},
   "outputs": [],
   "source": [
    "print(edge_server_ip)\n"
   ]
  },
  {
   "cell_type": "code",
   "execution_count": null,
   "metadata": {},
   "outputs": [],
   "source": [
    "user_providers_trust\n"
   ]
  },
  {
   "cell_type": "code",
   "execution_count": null,
   "metadata": {},
   "outputs": [],
   "source": [
    "def check_exceeding_trust(row):\n",
    "    service_requirement = row[\"Service Requirement\"]\n",
    "    user_providers_trust = row[\"User Providers Trust\"]\n",
    "    infrastructure_provider = row[\"Infrastructure Provider\"]\n",
    "\n",
    "    return user_providers_trust[str(infrastructure_provider)] > service_requirement\n",
    "\n",
    "\n",
    "def compute_exceeding_trust(service_df):\n",
    "\n",
    "    service_df = service_df[service_df[\"Time Step\"] == service_df[\"Time Step\"].max()]\n",
    "\n",
    "    service_df.loc[:, (\"Server\")] = service_df[\"Server\"].astype(int)\n",
    "\n",
    "    service_df.loc[:, (\"Service Requirement\")] = service_df[\"Instance ID\"].map(lambda x: service_requirements[x])\n",
    "    service_df.loc[:, (\"Infrastructure Provider\")] = service_df[\"Server\"].map(lambda x: edge_server_ip[x])\n",
    "\n",
    "    get_user_id_by_service_id = lambda service_id: [k for k, v in user_id_services.items() if service_id in v][0]\n",
    "    service_df.loc[:, (\"User ID\")] = service_df[\"Instance ID\"].map(get_user_id_by_service_id)\n",
    "    service_df.loc[:, (\"User Providers Trust\")] = service_df[\"User ID\"].map(lambda user_id: user_providers_trust[user_id])\n",
    "\n",
    "    service_df.loc[:, (\"Exceeding Trust\")] = service_df.apply(check_exceeding_trust, axis=1)\n",
    "\n",
    "    return service_df\n"
   ]
  },
  {
   "cell_type": "code",
   "execution_count": null,
   "metadata": {},
   "outputs": [],
   "source": [
    "algorithms = [\n",
    "    \"logs/algorithm=argos;\",\n",
    "    \"logs/algorithm=faticanti2020;\",\n",
    "    \"logs/algorithm=thea;\",\n",
    "    best_nsgaii_parameters,\n",
    "]\n",
    "\n",
    "dfs = read_algorithms_results(\"logs/*\", algorithms, \"Service\")\n",
    "\n",
    "df = pd.concat([compute_exceeding_trust(df) for df in dfs])\n"
   ]
  },
  {
   "cell_type": "code",
   "execution_count": null,
   "metadata": {},
   "outputs": [],
   "source": [
    "df[\"Exceeding Trust\"].head(10)\n"
   ]
  },
  {
   "cell_type": "code",
   "execution_count": null,
   "metadata": {},
   "outputs": [],
   "source": [
    "gp = df.groupby(\"Algorithm\")[\"Exceeding Trust\"].sum().reset_index()\n",
    "gp\n"
   ]
  },
  {
   "cell_type": "code",
   "execution_count": null,
   "metadata": {},
   "outputs": [],
   "source": []
  },
  {
   "cell_type": "code",
   "execution_count": null,
   "metadata": {},
   "outputs": [],
   "source": []
  },
  {
   "cell_type": "code",
   "execution_count": null,
   "metadata": {},
   "outputs": [],
   "source": []
  },
  {
   "cell_type": "markdown",
   "metadata": {},
   "source": [
    "### CPU Demand Sum by Edge Server Model"
   ]
  },
  {
   "cell_type": "code",
   "execution_count": null,
   "metadata": {},
   "outputs": [],
   "source": [
    "edge_server_models = {}\n",
    "for edge_server in EdgeServer.all():\n",
    "    edge_server_models[edge_server.id] = edge_server.model_name\n",
    "\n",
    "edge_server_models"
   ]
  },
  {
   "cell_type": "code",
   "execution_count": null,
   "metadata": {},
   "outputs": [],
   "source": [
    "algorithms = [\n",
    "    \"logs/algorithm=argos;\",\n",
    "    \"logs/algorithm=faticanti2020;\",\n",
    "    \"logs/algorithm=thea;\",\n",
    "    best_nsgaii_parameters,\n",
    "]\n",
    "\n",
    "dfs = read_algorithms_results(\"logs/*\", algorithms, \"EdgeServer\")\n",
    "\n",
    "edge_server_df = pd.concat(dfs)\n"
   ]
  },
  {
   "cell_type": "code",
   "execution_count": null,
   "metadata": {},
   "outputs": [],
   "source": [
    "edge_server_df[\"Model Name\"] = edge_server_df[\"Instance ID\"].map(lambda edge_server_id: edge_server_models[edge_server_id])\n",
    "\n",
    "edge_server_df[[\"Object\", \"Model Name\", \"CPU Demand\"]].head(5)"
   ]
  },
  {
   "cell_type": "code",
   "execution_count": null,
   "metadata": {},
   "outputs": [],
   "source": [
    "edge_server_df.groupby([\"Algorithm\", \"Model Name\"])[\"CPU Demand\"].sum().reset_index()\n"
   ]
  },
  {
   "cell_type": "code",
   "execution_count": null,
   "metadata": {},
   "outputs": [],
   "source": []
  },
  {
   "cell_type": "code",
   "execution_count": null,
   "metadata": {},
   "outputs": [],
   "source": []
  },
  {
   "cell_type": "code",
   "execution_count": null,
   "metadata": {},
   "outputs": [],
   "source": []
  }
 ],
 "metadata": {
  "kernelspec": {
   "display_name": "Python 3.7.13 ('thea-_DB9mXEn-py3.7')",
   "language": "python",
   "name": "python3"
  },
  "language_info": {
   "codemirror_mode": {
    "name": "ipython",
    "version": 3
   },
   "file_extension": ".py",
   "mimetype": "text/x-python",
   "name": "python",
   "nbconvert_exporter": "python",
   "pygments_lexer": "ipython3",
   "version": "3.10.12"
  },
  "orig_nbformat": 4,
  "vscode": {
   "interpreter": {
    "hash": "53c0a256d2dd9f48945eff7fe53a314924e6e552debf90d3070cc812d83a7a0a"
   }
  }
 },
 "nbformat": 4,
 "nbformat_minor": 2
}
