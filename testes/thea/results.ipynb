{
 "cells": [
  {
   "cell_type": "code",
   "execution_count": 1,
   "metadata": {},
   "outputs": [],
   "source": [
    "from scipy.stats import gmean\n",
    "from glob import glob\n",
    "\n",
    "import matplotlib.pyplot as plt\n",
    "import seaborn as sns\n",
    "import pandas as pd\n",
    "import numpy as np\n",
    "import msgpack\n",
    "import os\n",
    "\n",
    "\n",
    "pd.set_option(\"display.max_colwidth\", None)\n"
   ]
  },
  {
   "cell_type": "code",
   "execution_count": null,
   "metadata": {},
   "outputs": [],
   "source": []
  },
  {
   "cell_type": "code",
   "execution_count": null,
   "metadata": {},
   "outputs": [],
   "source": []
  },
  {
   "cell_type": "markdown",
   "metadata": {},
   "source": [
    "## NSGA-II Sensitivity Analysis"
   ]
  },
  {
   "cell_type": "code",
   "execution_count": 3,
   "metadata": {},
   "outputs": [],
   "source": [
    "def read_results(path):\n",
    "\n",
    "    data = []\n",
    "    for algorithm in glob(path):\n",
    "        for log in glob(algorithm + \"/*\"):\n",
    "            if \"Topology\" in log:\n",
    "                with open(log, \"rb\") as f:\n",
    "                    metrics = msgpack.load(f, strict_map_key=False)[-1]\n",
    "                    metrics[\"algorithm\"] = algorithm\n",
    "                    data.append(metrics)\n",
    "\n",
    "    return data\n",
    "\n",
    "\n",
    "data = read_results(\"logs/*\")\n"
   ]
  },
  {
   "cell_type": "code",
   "execution_count": 4,
   "metadata": {},
   "outputs": [
    {
     "data": {
      "text/html": [
       "<div>\n",
       "<style scoped>\n",
       "    .dataframe tbody tr th:only-of-type {\n",
       "        vertical-align: middle;\n",
       "    }\n",
       "\n",
       "    .dataframe tbody tr th {\n",
       "        vertical-align: top;\n",
       "    }\n",
       "\n",
       "    .dataframe thead th {\n",
       "        text-align: right;\n",
       "    }\n",
       "</style>\n",
       "<table border=\"1\" class=\"dataframe\">\n",
       "  <thead>\n",
       "    <tr style=\"text-align: right;\">\n",
       "      <th></th>\n",
       "      <th>algorithm</th>\n",
       "      <th>overall_occupation</th>\n",
       "      <th>overall_power_consumption</th>\n",
       "      <th>delay_sla_violations</th>\n",
       "      <th>privacy_sla_violations</th>\n",
       "    </tr>\n",
       "  </thead>\n",
       "  <tbody>\n",
       "    <tr>\n",
       "      <th>0</th>\n",
       "      <td>logs/algorithm=faticanti2020;</td>\n",
       "      <td>56.494681</td>\n",
       "      <td>10134.750000</td>\n",
       "      <td>10</td>\n",
       "      <td>18</td>\n",
       "    </tr>\n",
       "    <tr>\n",
       "      <th>1</th>\n",
       "      <td>logs/algorithm=thea;</td>\n",
       "      <td>54.231952</td>\n",
       "      <td>8214.500000</td>\n",
       "      <td>5</td>\n",
       "      <td>11</td>\n",
       "    </tr>\n",
       "    <tr>\n",
       "      <th>2</th>\n",
       "      <td>logs/algorithm=argos;</td>\n",
       "      <td>55.940907</td>\n",
       "      <td>9614.416667</td>\n",
       "      <td>7</td>\n",
       "      <td>19</td>\n",
       "    </tr>\n",
       "  </tbody>\n",
       "</table>\n",
       "</div>"
      ],
      "text/plain": [
       "                       algorithm  overall_occupation  \\\n",
       "0  logs/algorithm=faticanti2020;           56.494681   \n",
       "1           logs/algorithm=thea;           54.231952   \n",
       "2          logs/algorithm=argos;           55.940907   \n",
       "\n",
       "   overall_power_consumption  delay_sla_violations  privacy_sla_violations  \n",
       "0               10134.750000                    10                      18  \n",
       "1                8214.500000                     5                      11  \n",
       "2                9614.416667                     7                      19  "
      ]
     },
     "execution_count": 4,
     "metadata": {},
     "output_type": "execute_result"
    }
   ],
   "source": [
    "df = pd.DataFrame(data)\n",
    "df = df[[\"algorithm\", \"overall_occupation\", \"overall_power_consumption\", \"delay_sla_violations\", \"privacy_sla_violations\"]]\n",
    "df\n"
   ]
  },
  {
   "cell_type": "code",
   "execution_count": 5,
   "metadata": {},
   "outputs": [
    {
     "data": {
      "text/html": [
       "<div>\n",
       "<style scoped>\n",
       "    .dataframe tbody tr th:only-of-type {\n",
       "        vertical-align: middle;\n",
       "    }\n",
       "\n",
       "    .dataframe tbody tr th {\n",
       "        vertical-align: top;\n",
       "    }\n",
       "\n",
       "    .dataframe thead th {\n",
       "        text-align: right;\n",
       "    }\n",
       "</style>\n",
       "<table border=\"1\" class=\"dataframe\">\n",
       "  <thead>\n",
       "    <tr style=\"text-align: right;\">\n",
       "      <th></th>\n",
       "      <th>algorithm</th>\n",
       "      <th>overall_occupation</th>\n",
       "      <th>overall_power_consumption</th>\n",
       "      <th>delay_sla_violations</th>\n",
       "      <th>privacy_sla_violations</th>\n",
       "      <th>Cost</th>\n",
       "    </tr>\n",
       "  </thead>\n",
       "  <tbody>\n",
       "    <tr>\n",
       "      <th>1</th>\n",
       "      <td>logs/algorithm=thea;</td>\n",
       "      <td>54.231952</td>\n",
       "      <td>8214.500000</td>\n",
       "      <td>5</td>\n",
       "      <td>11</td>\n",
       "      <td>76.732840</td>\n",
       "    </tr>\n",
       "    <tr>\n",
       "      <th>2</th>\n",
       "      <td>logs/algorithm=argos;</td>\n",
       "      <td>55.940907</td>\n",
       "      <td>9614.416667</td>\n",
       "      <td>7</td>\n",
       "      <td>19</td>\n",
       "      <td>108.540427</td>\n",
       "    </tr>\n",
       "    <tr>\n",
       "      <th>0</th>\n",
       "      <td>logs/algorithm=faticanti2020;</td>\n",
       "      <td>56.494681</td>\n",
       "      <td>10134.750000</td>\n",
       "      <td>10</td>\n",
       "      <td>18</td>\n",
       "      <td>122.187988</td>\n",
       "    </tr>\n",
       "  </tbody>\n",
       "</table>\n",
       "</div>"
      ],
      "text/plain": [
       "                       algorithm  overall_occupation  \\\n",
       "1           logs/algorithm=thea;           54.231952   \n",
       "2          logs/algorithm=argos;           55.940907   \n",
       "0  logs/algorithm=faticanti2020;           56.494681   \n",
       "\n",
       "   overall_power_consumption  delay_sla_violations  privacy_sla_violations  \\\n",
       "1                8214.500000                     5                      11   \n",
       "2                9614.416667                     7                      19   \n",
       "0               10134.750000                    10                      18   \n",
       "\n",
       "         Cost  \n",
       "1   76.732840  \n",
       "2  108.540427  \n",
       "0  122.187988  "
      ]
     },
     "execution_count": 5,
     "metadata": {},
     "output_type": "execute_result"
    }
   ],
   "source": [
    "df.loc[:, (\"Cost\")] = df[[\"overall_power_consumption\", \"delay_sla_violations\", \"privacy_sla_violations\"]].apply(gmean, axis=1)\n",
    "df = df.sort_values(by=[\"Cost\"])\n",
    "df\n"
   ]
  },
  {
   "cell_type": "code",
   "execution_count": 6,
   "metadata": {},
   "outputs": [
    {
     "data": {
      "text/html": [
       "<div>\n",
       "<style scoped>\n",
       "    .dataframe tbody tr th:only-of-type {\n",
       "        vertical-align: middle;\n",
       "    }\n",
       "\n",
       "    .dataframe tbody tr th {\n",
       "        vertical-align: top;\n",
       "    }\n",
       "\n",
       "    .dataframe thead th {\n",
       "        text-align: right;\n",
       "    }\n",
       "</style>\n",
       "<table border=\"1\" class=\"dataframe\">\n",
       "  <thead>\n",
       "    <tr style=\"text-align: right;\">\n",
       "      <th></th>\n",
       "      <th>algorithm</th>\n",
       "      <th>overall_occupation</th>\n",
       "      <th>overall_power_consumption</th>\n",
       "      <th>delay_sla_violations</th>\n",
       "      <th>privacy_sla_violations</th>\n",
       "      <th>Cost</th>\n",
       "      <th>Algorithm</th>\n",
       "      <th>PopSize</th>\n",
       "      <th>NGen</th>\n",
       "      <th>CrossProb</th>\n",
       "      <th>MutProb</th>\n",
       "    </tr>\n",
       "  </thead>\n",
       "  <tbody>\n",
       "    <tr>\n",
       "      <th>1</th>\n",
       "      <td>logs/algorithm=thea;</td>\n",
       "      <td>54.231952</td>\n",
       "      <td>8214.500000</td>\n",
       "      <td>5</td>\n",
       "      <td>11</td>\n",
       "      <td>76.732840</td>\n",
       "      <td>thea</td>\n",
       "      <td>NaN</td>\n",
       "      <td>NaN</td>\n",
       "      <td>NaN</td>\n",
       "      <td>NaN</td>\n",
       "    </tr>\n",
       "    <tr>\n",
       "      <th>2</th>\n",
       "      <td>logs/algorithm=argos;</td>\n",
       "      <td>55.940907</td>\n",
       "      <td>9614.416667</td>\n",
       "      <td>7</td>\n",
       "      <td>19</td>\n",
       "      <td>108.540427</td>\n",
       "      <td>argos</td>\n",
       "      <td>NaN</td>\n",
       "      <td>NaN</td>\n",
       "      <td>NaN</td>\n",
       "      <td>NaN</td>\n",
       "    </tr>\n",
       "    <tr>\n",
       "      <th>0</th>\n",
       "      <td>logs/algorithm=faticanti2020;</td>\n",
       "      <td>56.494681</td>\n",
       "      <td>10134.750000</td>\n",
       "      <td>10</td>\n",
       "      <td>18</td>\n",
       "      <td>122.187988</td>\n",
       "      <td>faticanti2020</td>\n",
       "      <td>NaN</td>\n",
       "      <td>NaN</td>\n",
       "      <td>NaN</td>\n",
       "      <td>NaN</td>\n",
       "    </tr>\n",
       "  </tbody>\n",
       "</table>\n",
       "</div>"
      ],
      "text/plain": [
       "                       algorithm  overall_occupation  \\\n",
       "1           logs/algorithm=thea;           54.231952   \n",
       "2          logs/algorithm=argos;           55.940907   \n",
       "0  logs/algorithm=faticanti2020;           56.494681   \n",
       "\n",
       "   overall_power_consumption  delay_sla_violations  privacy_sla_violations  \\\n",
       "1                8214.500000                     5                      11   \n",
       "2                9614.416667                     7                      19   \n",
       "0               10134.750000                    10                      18   \n",
       "\n",
       "         Cost      Algorithm PopSize NGen CrossProb MutProb  \n",
       "1   76.732840           thea     NaN  NaN       NaN     NaN  \n",
       "2  108.540427          argos     NaN  NaN       NaN     NaN  \n",
       "0  122.187988  faticanti2020     NaN  NaN       NaN     NaN  "
      ]
     },
     "execution_count": 6,
     "metadata": {},
     "output_type": "execute_result"
    }
   ],
   "source": [
    "df[\"Algorithm\"] = df[\"algorithm\"].apply(lambda x: x.split(\";\")[0].split(\"=\")[1])\n",
    "\n",
    "df.loc[df.Algorithm == \"nsgaii\", \"PopSize\"] = df.loc[df.Algorithm == \"nsgaii\", \"algorithm\"].apply(\n",
    "    lambda x: int(x.split(\";\")[1].split(\"=\")[1])\n",
    ")\n",
    "df.loc[df.Algorithm == \"nsgaii\", \"NGen\"] = df.loc[df.Algorithm == \"nsgaii\", \"algorithm\"].apply(\n",
    "    lambda x: int(x.split(\";\")[2].split(\"=\")[1])\n",
    ")\n",
    "df.loc[df.Algorithm == \"nsgaii\", \"CrossProb\"] = df.loc[df.Algorithm == \"nsgaii\", \"algorithm\"].apply(\n",
    "    lambda x: float(x.split(\";\")[3].split(\"=\")[1])\n",
    ")\n",
    "df.loc[df.Algorithm == \"nsgaii\", \"MutProb\"] = df.loc[df.Algorithm == \"nsgaii\", \"algorithm\"].apply(\n",
    "    lambda x: float(x.split(\";\")[4].split(\"=\")[1])\n",
    ")\n",
    "\n",
    "df\n"
   ]
  },
  {
   "cell_type": "code",
   "execution_count": 7,
   "metadata": {},
   "outputs": [
    {
     "data": {
      "text/html": [
       "<div>\n",
       "<style scoped>\n",
       "    .dataframe tbody tr th:only-of-type {\n",
       "        vertical-align: middle;\n",
       "    }\n",
       "\n",
       "    .dataframe tbody tr th {\n",
       "        vertical-align: top;\n",
       "    }\n",
       "\n",
       "    .dataframe thead th {\n",
       "        text-align: right;\n",
       "    }\n",
       "</style>\n",
       "<table border=\"1\" class=\"dataframe\">\n",
       "  <thead>\n",
       "    <tr style=\"text-align: right;\">\n",
       "      <th></th>\n",
       "      <th>algorithm</th>\n",
       "      <th>Algorithm</th>\n",
       "      <th>PopSize</th>\n",
       "      <th>NGen</th>\n",
       "      <th>CrossProb</th>\n",
       "      <th>MutProb</th>\n",
       "    </tr>\n",
       "  </thead>\n",
       "  <tbody>\n",
       "    <tr>\n",
       "      <th>1</th>\n",
       "      <td>logs/algorithm=thea;</td>\n",
       "      <td>thea</td>\n",
       "      <td>NaN</td>\n",
       "      <td>NaN</td>\n",
       "      <td>NaN</td>\n",
       "      <td>NaN</td>\n",
       "    </tr>\n",
       "    <tr>\n",
       "      <th>2</th>\n",
       "      <td>logs/algorithm=argos;</td>\n",
       "      <td>argos</td>\n",
       "      <td>NaN</td>\n",
       "      <td>NaN</td>\n",
       "      <td>NaN</td>\n",
       "      <td>NaN</td>\n",
       "    </tr>\n",
       "    <tr>\n",
       "      <th>0</th>\n",
       "      <td>logs/algorithm=faticanti2020;</td>\n",
       "      <td>faticanti2020</td>\n",
       "      <td>NaN</td>\n",
       "      <td>NaN</td>\n",
       "      <td>NaN</td>\n",
       "      <td>NaN</td>\n",
       "    </tr>\n",
       "  </tbody>\n",
       "</table>\n",
       "</div>"
      ],
      "text/plain": [
       "                       algorithm      Algorithm PopSize NGen CrossProb MutProb\n",
       "1           logs/algorithm=thea;           thea     NaN  NaN       NaN     NaN\n",
       "2          logs/algorithm=argos;          argos     NaN  NaN       NaN     NaN\n",
       "0  logs/algorithm=faticanti2020;  faticanti2020     NaN  NaN       NaN     NaN"
      ]
     },
     "execution_count": 7,
     "metadata": {},
     "output_type": "execute_result"
    }
   ],
   "source": [
    "df[[\"algorithm\", \"Algorithm\", \"PopSize\", \"NGen\", \"CrossProb\", \"MutProb\"]].head(5)\n"
   ]
  },
  {
   "cell_type": "code",
   "execution_count": 8,
   "metadata": {},
   "outputs": [],
   "source": [
    "# Save NSGA-II sensitivity analysis results\n",
    "nsgaii_df = df.query(\"Algorithm == 'nsgaii' and PopSize == 300\").copy()\n",
    "\n",
    "nsgaii_df[\n",
    "    [\n",
    "        \"Algorithm\",\n",
    "        \"PopSize\",\n",
    "        \"NGen\",\n",
    "        \"CrossProb\",\n",
    "        \"MutProb\",\n",
    "        \"overall_occupation\",\n",
    "        \"overall_power_consumption\",\n",
    "        \"delay_sla_violations\",\n",
    "        \"privacy_sla_violations\",\n",
    "        \"Cost\",\n",
    "    ]\n",
    "].to_csv(\"NSGA-II-Sensitivity-Analysis.csv\", index=False, sep=\",\")\n"
   ]
  },
  {
   "cell_type": "code",
   "execution_count": null,
   "metadata": {},
   "outputs": [],
   "source": []
  },
  {
   "cell_type": "code",
   "execution_count": null,
   "metadata": {},
   "outputs": [],
   "source": []
  },
  {
   "cell_type": "code",
   "execution_count": null,
   "metadata": {},
   "outputs": [],
   "source": []
  },
  {
   "cell_type": "markdown",
   "metadata": {},
   "source": [
    "### Crossover and Mutation Probability Heatmap"
   ]
  },
  {
   "cell_type": "code",
   "execution_count": 9,
   "metadata": {},
   "outputs": [
    {
     "name": "stderr",
     "output_type": "stream",
     "text": [
      "/tmp/ipykernel_12659/563967012.py:1: FutureWarning: The provided callable <function amin at 0x7f83703cb640> is currently using DataFrameGroupBy.min. In a future version of pandas, the provided callable will be used directly. To keep current behavior pass the string \"min\" instead.\n",
      "  nsgaii_pivot_df = pd.pivot_table(nsgaii_df, values=\"Cost\", index=\"CrossProb\", columns=\"MutProb\", aggfunc=np.min)\n"
     ]
    },
    {
     "data": {
      "text/html": [
       "<div>\n",
       "<style scoped>\n",
       "    .dataframe tbody tr th:only-of-type {\n",
       "        vertical-align: middle;\n",
       "    }\n",
       "\n",
       "    .dataframe tbody tr th {\n",
       "        vertical-align: top;\n",
       "    }\n",
       "\n",
       "    .dataframe thead th {\n",
       "        text-align: right;\n",
       "    }\n",
       "</style>\n",
       "<table border=\"1\" class=\"dataframe\">\n",
       "  <thead>\n",
       "    <tr style=\"text-align: right;\">\n",
       "      <th>MutProb</th>\n",
       "    </tr>\n",
       "    <tr>\n",
       "      <th>CrossProb</th>\n",
       "    </tr>\n",
       "  </thead>\n",
       "  <tbody>\n",
       "  </tbody>\n",
       "</table>\n",
       "</div>"
      ],
      "text/plain": [
       "Empty DataFrame\n",
       "Columns: []\n",
       "Index: []"
      ]
     },
     "execution_count": 9,
     "metadata": {},
     "output_type": "execute_result"
    }
   ],
   "source": [
    "nsgaii_pivot_df = pd.pivot_table(nsgaii_df, values=\"Cost\", index=\"CrossProb\", columns=\"MutProb\", aggfunc=np.min)\n",
    "nsgaii_pivot_df\n"
   ]
  },
  {
   "cell_type": "code",
   "execution_count": 10,
   "metadata": {},
   "outputs": [
    {
     "data": {
      "text/plain": [
       "array([], dtype=object)"
      ]
     },
     "execution_count": 10,
     "metadata": {},
     "output_type": "execute_result"
    }
   ],
   "source": [
    "mut_prob = nsgaii_pivot_df.columns.values\n",
    "mut_prob\n"
   ]
  },
  {
   "cell_type": "code",
   "execution_count": 11,
   "metadata": {},
   "outputs": [
    {
     "data": {
      "text/plain": [
       "array([], dtype=object)"
      ]
     },
     "execution_count": 11,
     "metadata": {},
     "output_type": "execute_result"
    }
   ],
   "source": [
    "cross_prob = nsgaii_pivot_df.index.values\n",
    "cross_prob\n"
   ]
  },
  {
   "cell_type": "markdown",
   "metadata": {},
   "source": [
    "#### Set Custom Font"
   ]
  },
  {
   "cell_type": "code",
   "execution_count": 12,
   "metadata": {},
   "outputs": [
    {
     "name": "stdout",
     "output_type": "stream",
     "text": [
      "--2024-03-06 16:26:29--  https://fonts.google.com/download?family=Roboto\n",
      "Resolving fonts.google.com (fonts.google.com)... 2800:3f0:4001:82c::200e, 142.251.128.142\n",
      "Connecting to fonts.google.com (fonts.google.com)|2800:3f0:4001:82c::200e|:443... connected.\n",
      "HTTP request sent, awaiting response... 200 OK\n",
      "Length: unspecified [application/zip]\n",
      "Saving to: ‘dependencies/roboto.zip’\n",
      "\n",
      "dependencies/roboto     [  <=>               ]   1,06M  3,62MB/s    in 0,3s    \n",
      "\n",
      "2024-03-06 16:26:30 (3,62 MB/s) - ‘dependencies/roboto.zip’ saved [1108906]\n",
      "\n",
      "Archive:  dependencies/roboto.zip\n",
      "  inflating: dependencies/roboto/LICENSE.txt  \n",
      "  inflating: dependencies/roboto/Roboto-Thin.ttf  \n",
      "  inflating: dependencies/roboto/Roboto-ThinItalic.ttf  \n",
      "  inflating: dependencies/roboto/Roboto-Light.ttf  \n",
      "  inflating: dependencies/roboto/Roboto-LightItalic.ttf  \n",
      "  inflating: dependencies/roboto/Roboto-Regular.ttf  \n",
      "  inflating: dependencies/roboto/Roboto-Italic.ttf  \n",
      "  inflating: dependencies/roboto/Roboto-Medium.ttf  \n",
      "  inflating: dependencies/roboto/Roboto-MediumItalic.ttf  \n",
      "  inflating: dependencies/roboto/Roboto-Bold.ttf  \n",
      "  inflating: dependencies/roboto/Roboto-BoldItalic.ttf  \n",
      "  inflating: dependencies/roboto/Roboto-Black.ttf  \n",
      "  inflating: dependencies/roboto/Roboto-BlackItalic.ttf  \n"
     ]
    }
   ],
   "source": [
    "!mkdir dependencies\n",
    "!wget 'https://fonts.google.com/download?family=Roboto' -O dependencies/roboto.zip\n",
    "!unzip -o dependencies/roboto.zip -d dependencies/roboto"
   ]
  },
  {
   "cell_type": "code",
   "execution_count": 13,
   "metadata": {},
   "outputs": [
    {
     "data": {
      "text/plain": [
       "['/home/pandini/Desktop/thea/thea/dependencies/roboto/Roboto-BoldItalic.ttf',\n",
       " '/home/pandini/Desktop/thea/thea/dependencies/roboto/Roboto-Medium.ttf',\n",
       " '/home/pandini/Desktop/thea/thea/dependencies/roboto/Roboto-MediumItalic.ttf',\n",
       " '/home/pandini/Desktop/thea/thea/dependencies/roboto/Roboto-ThinItalic.ttf',\n",
       " '/home/pandini/Desktop/thea/thea/dependencies/roboto/Roboto-Bold.ttf',\n",
       " '/home/pandini/Desktop/thea/thea/dependencies/roboto/Roboto-BlackItalic.ttf',\n",
       " '/home/pandini/Desktop/thea/thea/dependencies/roboto/Roboto-Thin.ttf',\n",
       " '/home/pandini/Desktop/thea/thea/dependencies/roboto/Roboto-Light.ttf',\n",
       " '/home/pandini/Desktop/thea/thea/dependencies/roboto/Roboto-Black.ttf',\n",
       " '/home/pandini/Desktop/thea/thea/dependencies/roboto/Roboto-LightItalic.ttf',\n",
       " '/home/pandini/Desktop/thea/thea/dependencies/roboto/Roboto-Italic.ttf',\n",
       " '/home/pandini/Desktop/thea/thea/dependencies/roboto/Roboto-Regular.ttf']"
      ]
     },
     "execution_count": 13,
     "metadata": {},
     "output_type": "execute_result"
    }
   ],
   "source": [
    "import matplotlib.font_manager\n",
    "\n",
    "matplotlib.font_manager.findSystemFonts(fontpaths=\"dependencies/roboto\", fontext=\"ttf\")\n"
   ]
  },
  {
   "cell_type": "code",
   "execution_count": 14,
   "metadata": {},
   "outputs": [
    {
     "data": {
      "text/plain": [
       "'/home/pandini/Desktop/thea/thea/dependencies/roboto/Roboto-Regular.ttf'"
      ]
     },
     "execution_count": 14,
     "metadata": {},
     "output_type": "execute_result"
    }
   ],
   "source": [
    "font_path = os.path.join(os.getcwd(), \"dependencies/roboto/Roboto-Regular.ttf\")\n",
    "font_path\n"
   ]
  },
  {
   "cell_type": "code",
   "execution_count": 15,
   "metadata": {},
   "outputs": [],
   "source": [
    "import matplotlib.font_manager as font_manager\n",
    "import matplotlib as mpl\n",
    "import os\n",
    "\n",
    "prop = font_manager.FontProperties(fname=font_path)\n",
    "plt.rcParams[\"font.family\"] = prop.get_name()\n",
    "plt.rcParams[\"font.weight\"] = 300\n"
   ]
  },
  {
   "cell_type": "markdown",
   "metadata": {},
   "source": [
    "#### Plot"
   ]
  },
  {
   "cell_type": "code",
   "execution_count": 16,
   "metadata": {},
   "outputs": [
    {
     "ename": "ValueError",
     "evalue": "zero-size array to reduction operation fmin which has no identity",
     "output_type": "error",
     "traceback": [
      "\u001b[0;31m---------------------------------------------------------------------------\u001b[0m",
      "\u001b[0;31mValueError\u001b[0m                                Traceback (most recent call last)",
      "Cell \u001b[0;32mIn[16], line 7\u001b[0m\n\u001b[1;32m      3\u001b[0m fig, ax \u001b[38;5;241m=\u001b[39m plt\u001b[38;5;241m.\u001b[39msubplots(figsize\u001b[38;5;241m=\u001b[39m(\u001b[38;5;241m12\u001b[39m, \u001b[38;5;241m6\u001b[39m))\n\u001b[1;32m      5\u001b[0m cmap \u001b[38;5;241m=\u001b[39m colors\u001b[38;5;241m.\u001b[39mListedColormap(plt\u001b[38;5;241m.\u001b[39mcm\u001b[38;5;241m.\u001b[39mGreys(np\u001b[38;5;241m.\u001b[39mlinspace(\u001b[38;5;241m0.25\u001b[39m, \u001b[38;5;241m1\u001b[39m, \u001b[38;5;241m10\u001b[39m)), \u001b[38;5;124m\"\u001b[39m\u001b[38;5;124mname\u001b[39m\u001b[38;5;124m\"\u001b[39m)\n\u001b[0;32m----> 7\u001b[0m ax \u001b[38;5;241m=\u001b[39m \u001b[43msns\u001b[49m\u001b[38;5;241;43m.\u001b[39;49m\u001b[43mheatmap\u001b[49m\u001b[43m(\u001b[49m\n\u001b[1;32m      8\u001b[0m \u001b[43m    \u001b[49m\u001b[43mnsgaii_pivot_df\u001b[49m\u001b[38;5;241;43m.\u001b[39;49m\u001b[43mvalues\u001b[49m\u001b[43m,\u001b[49m\n\u001b[1;32m      9\u001b[0m \u001b[43m    \u001b[49m\u001b[43mannot\u001b[49m\u001b[38;5;241;43m=\u001b[39;49m\u001b[38;5;28;43;01mTrue\u001b[39;49;00m\u001b[43m,\u001b[49m\n\u001b[1;32m     10\u001b[0m \u001b[43m    \u001b[49m\u001b[43mfmt\u001b[49m\u001b[38;5;241;43m=\u001b[39;49m\u001b[38;5;124;43m\"\u001b[39;49m\u001b[38;5;124;43m.2f\u001b[39;49m\u001b[38;5;124;43m\"\u001b[39;49m\u001b[43m,\u001b[49m\n\u001b[1;32m     11\u001b[0m \u001b[43m    \u001b[49m\u001b[43mcmap\u001b[49m\u001b[38;5;241;43m=\u001b[39;49m\u001b[43mcmap\u001b[49m\u001b[43m,\u001b[49m\n\u001b[1;32m     12\u001b[0m \u001b[43m    \u001b[49m\u001b[43mxticklabels\u001b[49m\u001b[38;5;241;43m=\u001b[39;49m\u001b[43mmut_prob\u001b[49m\u001b[43m,\u001b[49m\n\u001b[1;32m     13\u001b[0m \u001b[43m    \u001b[49m\u001b[43myticklabels\u001b[49m\u001b[38;5;241;43m=\u001b[39;49m\u001b[43mcross_prob\u001b[49m\u001b[43m,\u001b[49m\n\u001b[1;32m     14\u001b[0m \u001b[43m    \u001b[49m\u001b[43mannot_kws\u001b[49m\u001b[38;5;241;43m=\u001b[39;49m\u001b[43m{\u001b[49m\u001b[38;5;124;43m\"\u001b[39;49m\u001b[38;5;124;43msize\u001b[39;49m\u001b[38;5;124;43m\"\u001b[39;49m\u001b[43m:\u001b[49m\u001b[43m \u001b[49m\u001b[38;5;241;43m15\u001b[39;49m\u001b[43m}\u001b[49m\u001b[43m,\u001b[49m\u001b[43m  \u001b[49m\u001b[38;5;66;43;03m# \"family\": \"roboto\"},\u001b[39;49;00m\n\u001b[1;32m     15\u001b[0m \u001b[43m    \u001b[49m\u001b[43mcbar_kws\u001b[49m\u001b[38;5;241;43m=\u001b[39;49m\u001b[43m{\u001b[49m\u001b[38;5;124;43m\"\u001b[39;49m\u001b[38;5;124;43morientation\u001b[39;49m\u001b[38;5;124;43m\"\u001b[39;49m\u001b[43m:\u001b[49m\u001b[43m \u001b[49m\u001b[38;5;124;43m\"\u001b[39;49m\u001b[38;5;124;43mvertical\u001b[39;49m\u001b[38;5;124;43m\"\u001b[39;49m\u001b[43m,\u001b[49m\u001b[43m \u001b[49m\u001b[38;5;124;43m\"\u001b[39;49m\u001b[38;5;124;43mpad\u001b[39;49m\u001b[38;5;124;43m\"\u001b[39;49m\u001b[43m:\u001b[49m\u001b[43m \u001b[49m\u001b[38;5;241;43m0.01\u001b[39;49m\u001b[43m}\u001b[49m\u001b[43m,\u001b[49m\n\u001b[1;32m     16\u001b[0m \u001b[43m)\u001b[49m\n\u001b[1;32m     18\u001b[0m ax\u001b[38;5;241m.\u001b[39minvert_yaxis()\n\u001b[1;32m     20\u001b[0m cbar \u001b[38;5;241m=\u001b[39m ax\u001b[38;5;241m.\u001b[39mcollections[\u001b[38;5;241m0\u001b[39m]\u001b[38;5;241m.\u001b[39mcolorbar\n",
      "File \u001b[0;32m~/.local/lib/python3.10/site-packages/seaborn/matrix.py:446\u001b[0m, in \u001b[0;36mheatmap\u001b[0;34m(data, vmin, vmax, cmap, center, robust, annot, fmt, annot_kws, linewidths, linecolor, cbar, cbar_kws, cbar_ax, square, xticklabels, yticklabels, mask, ax, **kwargs)\u001b[0m\n\u001b[1;32m    365\u001b[0m \u001b[38;5;250m\u001b[39m\u001b[38;5;124;03m\"\"\"Plot rectangular data as a color-encoded matrix.\u001b[39;00m\n\u001b[1;32m    366\u001b[0m \n\u001b[1;32m    367\u001b[0m \u001b[38;5;124;03mThis is an Axes-level function and will draw the heatmap into the\u001b[39;00m\n\u001b[0;32m   (...)\u001b[0m\n\u001b[1;32m    443\u001b[0m \n\u001b[1;32m    444\u001b[0m \u001b[38;5;124;03m\"\"\"\u001b[39;00m\n\u001b[1;32m    445\u001b[0m \u001b[38;5;66;03m# Initialize the plotter object\u001b[39;00m\n\u001b[0;32m--> 446\u001b[0m plotter \u001b[38;5;241m=\u001b[39m \u001b[43m_HeatMapper\u001b[49m\u001b[43m(\u001b[49m\u001b[43mdata\u001b[49m\u001b[43m,\u001b[49m\u001b[43m \u001b[49m\u001b[43mvmin\u001b[49m\u001b[43m,\u001b[49m\u001b[43m \u001b[49m\u001b[43mvmax\u001b[49m\u001b[43m,\u001b[49m\u001b[43m \u001b[49m\u001b[43mcmap\u001b[49m\u001b[43m,\u001b[49m\u001b[43m \u001b[49m\u001b[43mcenter\u001b[49m\u001b[43m,\u001b[49m\u001b[43m \u001b[49m\u001b[43mrobust\u001b[49m\u001b[43m,\u001b[49m\u001b[43m \u001b[49m\u001b[43mannot\u001b[49m\u001b[43m,\u001b[49m\u001b[43m \u001b[49m\u001b[43mfmt\u001b[49m\u001b[43m,\u001b[49m\n\u001b[1;32m    447\u001b[0m \u001b[43m                      \u001b[49m\u001b[43mannot_kws\u001b[49m\u001b[43m,\u001b[49m\u001b[43m \u001b[49m\u001b[43mcbar\u001b[49m\u001b[43m,\u001b[49m\u001b[43m \u001b[49m\u001b[43mcbar_kws\u001b[49m\u001b[43m,\u001b[49m\u001b[43m \u001b[49m\u001b[43mxticklabels\u001b[49m\u001b[43m,\u001b[49m\n\u001b[1;32m    448\u001b[0m \u001b[43m                      \u001b[49m\u001b[43myticklabels\u001b[49m\u001b[43m,\u001b[49m\u001b[43m \u001b[49m\u001b[43mmask\u001b[49m\u001b[43m)\u001b[49m\n\u001b[1;32m    450\u001b[0m \u001b[38;5;66;03m# Add the pcolormesh kwargs here\u001b[39;00m\n\u001b[1;32m    451\u001b[0m kwargs[\u001b[38;5;124m\"\u001b[39m\u001b[38;5;124mlinewidths\u001b[39m\u001b[38;5;124m\"\u001b[39m] \u001b[38;5;241m=\u001b[39m linewidths\n",
      "File \u001b[0;32m~/.local/lib/python3.10/site-packages/seaborn/matrix.py:163\u001b[0m, in \u001b[0;36m_HeatMapper.__init__\u001b[0;34m(self, data, vmin, vmax, cmap, center, robust, annot, fmt, annot_kws, cbar, cbar_kws, xticklabels, yticklabels, mask)\u001b[0m\n\u001b[1;32m    160\u001b[0m \u001b[38;5;28mself\u001b[39m\u001b[38;5;241m.\u001b[39mylabel \u001b[38;5;241m=\u001b[39m ylabel \u001b[38;5;28;01mif\u001b[39;00m ylabel \u001b[38;5;129;01mis\u001b[39;00m \u001b[38;5;129;01mnot\u001b[39;00m \u001b[38;5;28;01mNone\u001b[39;00m \u001b[38;5;28;01melse\u001b[39;00m \u001b[38;5;124m\"\u001b[39m\u001b[38;5;124m\"\u001b[39m\n\u001b[1;32m    162\u001b[0m \u001b[38;5;66;03m# Determine good default values for the colormapping\u001b[39;00m\n\u001b[0;32m--> 163\u001b[0m \u001b[38;5;28;43mself\u001b[39;49m\u001b[38;5;241;43m.\u001b[39;49m\u001b[43m_determine_cmap_params\u001b[49m\u001b[43m(\u001b[49m\u001b[43mplot_data\u001b[49m\u001b[43m,\u001b[49m\u001b[43m \u001b[49m\u001b[43mvmin\u001b[49m\u001b[43m,\u001b[49m\u001b[43m \u001b[49m\u001b[43mvmax\u001b[49m\u001b[43m,\u001b[49m\n\u001b[1;32m    164\u001b[0m \u001b[43m                            \u001b[49m\u001b[43mcmap\u001b[49m\u001b[43m,\u001b[49m\u001b[43m \u001b[49m\u001b[43mcenter\u001b[49m\u001b[43m,\u001b[49m\u001b[43m \u001b[49m\u001b[43mrobust\u001b[49m\u001b[43m)\u001b[49m\n\u001b[1;32m    166\u001b[0m \u001b[38;5;66;03m# Sort out the annotations\u001b[39;00m\n\u001b[1;32m    167\u001b[0m \u001b[38;5;28;01mif\u001b[39;00m annot \u001b[38;5;129;01mis\u001b[39;00m \u001b[38;5;28;01mNone\u001b[39;00m \u001b[38;5;129;01mor\u001b[39;00m annot \u001b[38;5;129;01mis\u001b[39;00m \u001b[38;5;28;01mFalse\u001b[39;00m:\n",
      "File \u001b[0;32m~/.local/lib/python3.10/site-packages/seaborn/matrix.py:202\u001b[0m, in \u001b[0;36m_HeatMapper._determine_cmap_params\u001b[0;34m(self, plot_data, vmin, vmax, cmap, center, robust)\u001b[0m\n\u001b[1;32m    200\u001b[0m         vmin \u001b[38;5;241m=\u001b[39m np\u001b[38;5;241m.\u001b[39mnanpercentile(calc_data, \u001b[38;5;241m2\u001b[39m)\n\u001b[1;32m    201\u001b[0m     \u001b[38;5;28;01melse\u001b[39;00m:\n\u001b[0;32m--> 202\u001b[0m         vmin \u001b[38;5;241m=\u001b[39m \u001b[43mnp\u001b[49m\u001b[38;5;241;43m.\u001b[39;49m\u001b[43mnanmin\u001b[49m\u001b[43m(\u001b[49m\u001b[43mcalc_data\u001b[49m\u001b[43m)\u001b[49m\n\u001b[1;32m    203\u001b[0m \u001b[38;5;28;01mif\u001b[39;00m vmax \u001b[38;5;129;01mis\u001b[39;00m \u001b[38;5;28;01mNone\u001b[39;00m:\n\u001b[1;32m    204\u001b[0m     \u001b[38;5;28;01mif\u001b[39;00m robust:\n",
      "File \u001b[0;32m<__array_function__ internals>:180\u001b[0m, in \u001b[0;36mnanmin\u001b[0;34m(*args, **kwargs)\u001b[0m\n",
      "File \u001b[0;32m~/.local/lib/python3.10/site-packages/numpy/lib/nanfunctions.py:343\u001b[0m, in \u001b[0;36mnanmin\u001b[0;34m(a, axis, out, keepdims, initial, where)\u001b[0m\n\u001b[1;32m    338\u001b[0m     kwargs[\u001b[38;5;124m'\u001b[39m\u001b[38;5;124mwhere\u001b[39m\u001b[38;5;124m'\u001b[39m] \u001b[38;5;241m=\u001b[39m where\n\u001b[1;32m    340\u001b[0m \u001b[38;5;28;01mif\u001b[39;00m \u001b[38;5;28mtype\u001b[39m(a) \u001b[38;5;129;01mis\u001b[39;00m np\u001b[38;5;241m.\u001b[39mndarray \u001b[38;5;129;01mand\u001b[39;00m a\u001b[38;5;241m.\u001b[39mdtype \u001b[38;5;241m!=\u001b[39m np\u001b[38;5;241m.\u001b[39mobject_:\n\u001b[1;32m    341\u001b[0m     \u001b[38;5;66;03m# Fast, but not safe for subclasses of ndarray, or object arrays,\u001b[39;00m\n\u001b[1;32m    342\u001b[0m     \u001b[38;5;66;03m# which do not implement isnan (gh-9009), or fmin correctly (gh-8975)\u001b[39;00m\n\u001b[0;32m--> 343\u001b[0m     res \u001b[38;5;241m=\u001b[39m \u001b[43mnp\u001b[49m\u001b[38;5;241;43m.\u001b[39;49m\u001b[43mfmin\u001b[49m\u001b[38;5;241;43m.\u001b[39;49m\u001b[43mreduce\u001b[49m\u001b[43m(\u001b[49m\u001b[43ma\u001b[49m\u001b[43m,\u001b[49m\u001b[43m \u001b[49m\u001b[43maxis\u001b[49m\u001b[38;5;241;43m=\u001b[39;49m\u001b[43maxis\u001b[49m\u001b[43m,\u001b[49m\u001b[43m \u001b[49m\u001b[43mout\u001b[49m\u001b[38;5;241;43m=\u001b[39;49m\u001b[43mout\u001b[49m\u001b[43m,\u001b[49m\u001b[43m \u001b[49m\u001b[38;5;241;43m*\u001b[39;49m\u001b[38;5;241;43m*\u001b[39;49m\u001b[43mkwargs\u001b[49m\u001b[43m)\u001b[49m\n\u001b[1;32m    344\u001b[0m     \u001b[38;5;28;01mif\u001b[39;00m np\u001b[38;5;241m.\u001b[39misnan(res)\u001b[38;5;241m.\u001b[39many():\n\u001b[1;32m    345\u001b[0m         warnings\u001b[38;5;241m.\u001b[39mwarn(\u001b[38;5;124m\"\u001b[39m\u001b[38;5;124mAll-NaN slice encountered\u001b[39m\u001b[38;5;124m\"\u001b[39m, \u001b[38;5;167;01mRuntimeWarning\u001b[39;00m,\n\u001b[1;32m    346\u001b[0m                       stacklevel\u001b[38;5;241m=\u001b[39m\u001b[38;5;241m3\u001b[39m)\n",
      "\u001b[0;31mValueError\u001b[0m: zero-size array to reduction operation fmin which has no identity"
     ]
    },
    {
     "name": "stderr",
     "output_type": "stream",
     "text": [
      "findfont: Font family ['Roboto'] not found. Falling back to DejaVu Sans.\n"
     ]
    },
    {
     "data": {
      "image/png": "[encoded data removed]",
      "text/plain": [
       "<Figure size 1200x600 with 1 Axes>"
      ]
     },
     "metadata": {},
     "output_type": "display_data"
    }
   ],
   "source": [
    "import matplotlib.colors as colors\n",
    "\n",
    "fig, ax = plt.subplots(figsize=(12, 6))\n",
    "\n",
    "cmap = colors.ListedColormap(plt.cm.Greys(np.linspace(0.25, 1, 10)), \"name\")\n",
    "\n",
    "ax = sns.heatmap(\n",
    "    nsgaii_pivot_df.values,\n",
    "    annot=True,\n",
    "    fmt=\".2f\",\n",
    "    cmap=cmap,\n",
    "    xticklabels=mut_prob,\n",
    "    yticklabels=cross_prob,\n",
    "    annot_kws={\"size\": 15},  # \"family\": \"roboto\"},\n",
    "    cbar_kws={\"orientation\": \"vertical\", \"pad\": 0.01},\n",
    ")\n",
    "\n",
    "ax.invert_yaxis()\n",
    "\n",
    "cbar = ax.collections[0].colorbar\n",
    "cbar.ax.tick_params(labelsize=15)\n",
    "\n",
    "ax.tick_params(axis=\"both\", which=\"major\", labelsize=16)\n",
    "\n",
    "ax.set_xlabel(\"Mutation Probability\", fontsize=18, fontweight=\"bold\")\n",
    "ax.set_ylabel(\"Crossover Probability\", fontsize=18, fontweight=\"bold\")\n",
    "\n",
    "plt.savefig(f\"nsgaii-probability-heatmap.pdf\", dpi=300, bbox_inches=\"tight\")\n"
   ]
  },
  {
   "cell_type": "code",
   "execution_count": null,
   "metadata": {},
   "outputs": [],
   "source": []
  },
  {
   "cell_type": "markdown",
   "metadata": {},
   "source": [
    "### Best Parameters"
   ]
  },
  {
   "cell_type": "code",
   "execution_count": null,
   "metadata": {},
   "outputs": [],
   "source": [
    "best = nsgaii_df[\n",
    "    [\n",
    "        \"algorithm\",\n",
    "        \"Algorithm\",\n",
    "        \"PopSize\",\n",
    "        \"NGen\",\n",
    "        \"CrossProb\",\n",
    "        \"MutProb\",\n",
    "        \"overall_occupation\",\n",
    "        \"overall_power_consumption\",\n",
    "        \"delay_sla_violations\",\n",
    "        \"privacy_sla_violations\",\n",
    "        \"Cost\",\n",
    "    ]\n",
    "].copy()\n",
    "\n",
    "best.sort_values(by=[\"Cost\", \"NGen\"], inplace=True)\n",
    "\n",
    "best.head(20)\n"
   ]
  },
  {
   "cell_type": "code",
   "execution_count": null,
   "metadata": {},
   "outputs": [],
   "source": [
    "best_nsgaii_parameters = best.iloc[0, 0]\n",
    "best_nsgaii_parameters\n"
   ]
  },
  {
   "cell_type": "code",
   "execution_count": null,
   "metadata": {},
   "outputs": [],
   "source": []
  },
  {
   "cell_type": "markdown",
   "metadata": {},
   "source": [
    "## Results"
   ]
  },
  {
   "cell_type": "code",
   "execution_count": null,
   "metadata": {},
   "outputs": [],
   "source": [
    "algorithms = [\n",
    "    \"logs/algorithm=argos;\",\n",
    "    \"logs/algorithm=faticanti2020;\",\n",
    "    \"logs/algorithm=thea;\",\n",
    "    best_nsgaii_parameters,\n",
    "]\n",
    "\n",
    "algorithms"
   ]
  },
  {
   "cell_type": "code",
   "execution_count": null,
   "metadata": {},
   "outputs": [],
   "source": [
    "results = []\n",
    "for row in data:\n",
    "    if row[\"algorithm\"] in algorithms:\n",
    "        print(\"algorithm: {}\".format(row[\"algorithm\"]))\n",
    "        row[\"Algorithm\"] = row[\"algorithm\"].split(\";\")[0].split(\"=\")[1]\n",
    "        results.append(row)\n"
   ]
  },
  {
   "cell_type": "code",
   "execution_count": null,
   "metadata": {},
   "outputs": [],
   "source": [
    "results_df = pd.DataFrame(results)\n",
    "\n",
    "results_df[\n",
    "    [\"algorithm\", \"overall_occupation\", \"overall_power_consumption\", \"delay_sla_violations\", \"privacy_sla_violations\"]\n",
    "].sort_values(by=[\"algorithm\"], ascending=True).reset_index(drop=True)\n"
   ]
  },
  {
   "cell_type": "code",
   "execution_count": null,
   "metadata": {},
   "outputs": [],
   "source": [
    "for item in [\"provider\", \"model\", \"chain_size\", \"delay_sla\", \"privacy_requirement\"]:\n",
    "\n",
    "    df = pd.json_normalize(results, record_path=[item], meta=[\"algorithm\"])\n",
    "\n",
    "    # shift column 'algorithm' to first position\n",
    "    algorithm = df.pop(\"algorithm\")\n",
    "    df.insert(0, \"algorithm\", algorithm)\n",
    "\n",
    "    if item == \"model\":\n",
    "        df = df.sort_values(by=[\"algorithm\", \"model_name\"], ascending=True).reset_index(drop=True)\n",
    "\n",
    "    if item == \"privacy_requirement\":\n",
    "        df = df.sort_values(by=[\"algorithm\", \"privacy_requirement\"], ascending=True).reset_index(drop=True)\n",
    "\n",
    "    if item == \"chain_size\":\n",
    "        df = df.sort_values(by=[\"algorithm\", \"chain_size\"], ascending=True).reset_index(drop=True)\n",
    "\n",
    "    display(df)\n"
   ]
  },
  {
   "cell_type": "code",
   "execution_count": null,
   "metadata": {},
   "outputs": [],
   "source": []
  },
  {
   "cell_type": "code",
   "execution_count": null,
   "metadata": {},
   "outputs": [],
   "source": []
  },
  {
   "cell_type": "markdown",
   "metadata": {},
   "source": [
    "## Custom Metrics"
   ]
  },
  {
   "cell_type": "code",
   "execution_count": null,
   "metadata": {},
   "outputs": [],
   "source": [
    "def read_algorithms_results(path, algorithms, item):\n",
    "\n",
    "    dfs = []\n",
    "    for algorithm in glob(path):\n",
    "\n",
    "        if algorithm not in algorithms:\n",
    "            continue\n",
    "\n",
    "        print(algorithm)\n",
    "\n",
    "        with open(f\"{algorithm}/{item}.msgpack\", \"rb\") as f:\n",
    "            data = msgpack.load(f, strict_map_key=False)\n",
    "\n",
    "        df = pd.DataFrame(data)\n",
    "        df.loc[:, (\"Algorithm\")] = algorithm.split(\"/\")[-1]\n",
    "        df = df[df[\"Time Step\"] == df[\"Time Step\"].max()]\n",
    "\n",
    "        dfs.append(df)\n",
    "\n",
    "    return dfs\n"
   ]
  },
  {
   "cell_type": "markdown",
   "metadata": {},
   "source": [
    "### Communication Path Size"
   ]
  },
  {
   "cell_type": "code",
   "execution_count": null,
   "metadata": {},
   "outputs": [],
   "source": [
    "def add_app_chain_size_and_delay_sla(df):\n",
    "    df.loc[:, (\"Application Chain Size\")] = [1, 1, 2, 2, 4, 4, 8, 8, 1, 1, 2, 2, 4, 4, 8, 8]\n",
    "    df.loc[:, (\"Delay SLA\")] = [3, 6, 3, 3, 6, 3, 6, 6, 3, 6, 3, 6, 3, 3, 6, 6]\n",
    "\n",
    "    return df\n"
   ]
  },
  {
   "cell_type": "code",
   "execution_count": null,
   "metadata": {},
   "outputs": [],
   "source": [
    "algorithms = [\n",
    "    \"logs/algorithm=argos;\",\n",
    "    \"logs/algorithm=faticanti2020;\",\n",
    "    \"logs/algorithm=thea;\",\n",
    "    best_nsgaii_parameters,\n",
    "]\n",
    "\n",
    "dfs = read_algorithms_results(\"logs/*\", algorithms, \"User\")\n",
    "\n",
    "df = pd.concat([add_app_chain_size_and_delay_sla(df) for df in dfs])\n"
   ]
  },
  {
   "cell_type": "code",
   "execution_count": null,
   "metadata": {},
   "outputs": [],
   "source": [
    "def compute_path_lengh(x):\n",
    "    path_len = 0\n",
    "\n",
    "    for path_list in x.values():\n",
    "        for sublist in path_list:\n",
    "            if (len(sublist) - 1) > 0:\n",
    "                path_len += len(sublist) - 1\n",
    "\n",
    "    return path_len\n",
    "\n",
    "\n",
    "assert compute_path_lengh({\"1\": [[78, 69, 61, 62, 63]]}) == 4\n",
    "assert compute_path_lengh({'5': [[10, 20, 21, 22, 23, 24], [], [], [24, 14]]}) == 6\n"
   ]
  },
  {
   "cell_type": "code",
   "execution_count": null,
   "metadata": {},
   "outputs": [],
   "source": [
    "get_dict_value = lambda x: list(x.values())[0]\n",
    "\n",
    "assert get_dict_value({\"1\": 4}) == 4\n"
   ]
  },
  {
   "cell_type": "code",
   "execution_count": null,
   "metadata": {},
   "outputs": [],
   "source": [
    "df = pd.concat(dfs)\n",
    "\n",
    "df[\"Delay Value\"] = df[\"Delays\"].map(get_dict_value)\n",
    "df[\"Delay SLA Violation\"] = df[\"Delay Value\"] > df[\"Delay SLA\"]\n",
    "df[\"Communication Path Size\"] = df[\"Communication Paths\"].map(compute_path_lengh)\n",
    "\n",
    "df[[\"Delays\", \"Delay Value\", \"Delay SLA\", \"Delay SLA Violation\"]].head(5)"
   ]
  },
  {
   "cell_type": "code",
   "execution_count": null,
   "metadata": {},
   "outputs": [],
   "source": [
    "gp = df.groupby([\"Algorithm\", \"Application Chain Size\"])[\"Communication Path Size\"].mean().reset_index()\n",
    "gp\n"
   ]
  },
  {
   "cell_type": "code",
   "execution_count": null,
   "metadata": {},
   "outputs": [],
   "source": [
    "# Communication Path Size by Application Chain Size\n",
    "gp.pivot_table(index=\"Application Chain Size\", columns=\"Algorithm\", values=\"Communication Path Size\")\n"
   ]
  },
  {
   "cell_type": "code",
   "execution_count": null,
   "metadata": {},
   "outputs": [],
   "source": []
  },
  {
   "cell_type": "code",
   "execution_count": null,
   "metadata": {},
   "outputs": [],
   "source": []
  },
  {
   "cell_type": "code",
   "execution_count": null,
   "metadata": {},
   "outputs": [],
   "source": []
  },
  {
   "cell_type": "markdown",
   "metadata": {},
   "source": [
    "### Delay SLA Violations by App Chain Size"
   ]
  },
  {
   "cell_type": "code",
   "execution_count": null,
   "metadata": {},
   "outputs": [],
   "source": [
    "gp = df.groupby([\"Algorithm\", \"Application Chain Size\"])[\"Delay SLA Violation\"].sum().reset_index()\n",
    "gp\n"
   ]
  },
  {
   "cell_type": "code",
   "execution_count": null,
   "metadata": {},
   "outputs": [],
   "source": [
    "# Delay SLA Violations by Application Chain Size\n",
    "gp.pivot_table(index=\"Algorithm\", columns=\"Application Chain Size\", values=\"Delay SLA Violation\")\n"
   ]
  },
  {
   "cell_type": "code",
   "execution_count": null,
   "metadata": {},
   "outputs": [],
   "source": []
  },
  {
   "cell_type": "code",
   "execution_count": null,
   "metadata": {},
   "outputs": [],
   "source": []
  },
  {
   "cell_type": "code",
   "execution_count": null,
   "metadata": {},
   "outputs": [],
   "source": []
  },
  {
   "cell_type": "code",
   "execution_count": null,
   "metadata": {},
   "outputs": [],
   "source": []
  },
  {
   "cell_type": "code",
   "execution_count": null,
   "metadata": {},
   "outputs": [],
   "source": []
  },
  {
   "cell_type": "markdown",
   "metadata": {},
   "source": [
    "### Number of Services on Servers with Exceeding Trust"
   ]
  },
  {
   "cell_type": "code",
   "execution_count": null,
   "metadata": {},
   "outputs": [],
   "source": [
    "# Importing EdgeSimPy components\n",
    "from edge_sim_py import *\n",
    "\n",
    "simulator = Simulator()\n",
    "simulator.initialize(input_file=\"datasets/dataset1.json\")\n"
   ]
  },
  {
   "cell_type": "code",
   "execution_count": null,
   "metadata": {},
   "outputs": [],
   "source": [
    "service_requirements = {}\n",
    "\n",
    "user_providers_trust = {}\n",
    "user_id_services = {}\n",
    "\n",
    "edge_server_ip = {}\n",
    "\n",
    "for user in User.all():\n",
    "    user_id_services[user.id] = []\n",
    "    user_providers_trust[user.id] = user.providers_trust\n",
    "\n",
    "    for app in user.applications:\n",
    "        for service in app.services:\n",
    "            user_id_services[user.id].append(service.id)\n",
    "            service_requirements[service.id] = service.privacy_requirement\n",
    "\n",
    "for edge_server in EdgeServer.all():\n",
    "    edge_server_ip[edge_server.id] = edge_server.infrastructure_provider\n",
    "\n",
    "user_id_services\n"
   ]
  },
  {
   "cell_type": "code",
   "execution_count": null,
   "metadata": {},
   "outputs": [],
   "source": [
    "print(service_requirements)\n"
   ]
  },
  {
   "cell_type": "code",
   "execution_count": null,
   "metadata": {},
   "outputs": [],
   "source": [
    "print(edge_server_ip)\n"
   ]
  },
  {
   "cell_type": "code",
   "execution_count": null,
   "metadata": {},
   "outputs": [],
   "source": [
    "user_providers_trust\n"
   ]
  },
  {
   "cell_type": "code",
   "execution_count": null,
   "metadata": {},
   "outputs": [],
   "source": [
    "def check_exceeding_trust(row):\n",
    "    service_requirement = row[\"Service Requirement\"]\n",
    "    user_providers_trust = row[\"User Providers Trust\"]\n",
    "    infrastructure_provider = row[\"Infrastructure Provider\"]\n",
    "\n",
    "    return user_providers_trust[str(infrastructure_provider)] > service_requirement\n",
    "\n",
    "\n",
    "def compute_exceeding_trust(service_df):\n",
    "\n",
    "    service_df = service_df[service_df[\"Time Step\"] == service_df[\"Time Step\"].max()]\n",
    "\n",
    "    service_df.loc[:, (\"Server\")] = service_df[\"Server\"].astype(int)\n",
    "\n",
    "    service_df.loc[:, (\"Service Requirement\")] = service_df[\"Instance ID\"].map(lambda x: service_requirements[x])\n",
    "    service_df.loc[:, (\"Infrastructure Provider\")] = service_df[\"Server\"].map(lambda x: edge_server_ip[x])\n",
    "\n",
    "    get_user_id_by_service_id = lambda service_id: [k for k, v in user_id_services.items() if service_id in v][0]\n",
    "    service_df.loc[:, (\"User ID\")] = service_df[\"Instance ID\"].map(get_user_id_by_service_id)\n",
    "    service_df.loc[:, (\"User Providers Trust\")] = service_df[\"User ID\"].map(lambda user_id: user_providers_trust[user_id])\n",
    "\n",
    "    service_df.loc[:, (\"Exceeding Trust\")] = service_df.apply(check_exceeding_trust, axis=1)\n",
    "\n",
    "    return service_df\n"
   ]
  },
  {
   "cell_type": "code",
   "execution_count": null,
   "metadata": {},
   "outputs": [],
   "source": [
    "algorithms = [\n",
    "    \"logs/algorithm=argos;\",\n",
    "    \"logs/algorithm=faticanti2020;\",\n",
    "    \"logs/algorithm=thea;\",\n",
    "    best_nsgaii_parameters,\n",
    "]\n",
    "\n",
    "dfs = read_algorithms_results(\"logs/*\", algorithms, \"Service\")\n",
    "\n",
    "df = pd.concat([compute_exceeding_trust(df) for df in dfs])\n"
   ]
  },
  {
   "cell_type": "code",
   "execution_count": null,
   "metadata": {},
   "outputs": [],
   "source": [
    "df[\"Exceeding Trust\"].head(10)\n"
   ]
  },
  {
   "cell_type": "code",
   "execution_count": null,
   "metadata": {},
   "outputs": [],
   "source": [
    "gp = df.groupby(\"Algorithm\")[\"Exceeding Trust\"].sum().reset_index()\n",
    "gp\n"
   ]
  },
  {
   "cell_type": "code",
   "execution_count": null,
   "metadata": {},
   "outputs": [],
   "source": []
  },
  {
   "cell_type": "code",
   "execution_count": null,
   "metadata": {},
   "outputs": [],
   "source": []
  },
  {
   "cell_type": "code",
   "execution_count": null,
   "metadata": {},
   "outputs": [],
   "source": []
  },
  {
   "cell_type": "markdown",
   "metadata": {},
   "source": [
    "### CPU Demand Sum by Edge Server Model"
   ]
  },
  {
   "cell_type": "code",
   "execution_count": null,
   "metadata": {},
   "outputs": [],
   "source": [
    "edge_server_models = {}\n",
    "for edge_server in EdgeServer.all():\n",
    "    edge_server_models[edge_server.id] = edge_server.model_name\n",
    "\n",
    "edge_server_models"
   ]
  },
  {
   "cell_type": "code",
   "execution_count": null,
   "metadata": {},
   "outputs": [],
   "source": [
    "algorithms = [\n",
    "    \"logs/algorithm=argos;\",\n",
    "    \"logs/algorithm=faticanti2020;\",\n",
    "    \"logs/algorithm=thea;\",\n",
    "    best_nsgaii_parameters,\n",
    "]\n",
    "\n",
    "dfs = read_algorithms_results(\"logs/*\", algorithms, \"EdgeServer\")\n",
    "\n",
    "edge_server_df = pd.concat(dfs)\n"
   ]
  },
  {
   "cell_type": "code",
   "execution_count": null,
   "metadata": {},
   "outputs": [],
   "source": [
    "edge_server_df[\"Model Name\"] = edge_server_df[\"Instance ID\"].map(lambda edge_server_id: edge_server_models[edge_server_id])\n",
    "\n",
    "edge_server_df[[\"Object\", \"Model Name\", \"CPU Demand\"]].head(5)"
   ]
  },
  {
   "cell_type": "code",
   "execution_count": null,
   "metadata": {},
   "outputs": [],
   "source": [
    "edge_server_df.groupby([\"Algorithm\", \"Model Name\"])[\"CPU Demand\"].sum().reset_index()\n"
   ]
  },
  {
   "cell_type": "code",
   "execution_count": null,
   "metadata": {},
   "outputs": [],
   "source": []
  },
  {
   "cell_type": "code",
   "execution_count": null,
   "metadata": {},
   "outputs": [],
   "source": []
  },
  {
   "cell_type": "code",
   "execution_count": null,
   "metadata": {},
   "outputs": [],
   "source": []
  }
 ],
 "metadata": {
  "kernelspec": {
   "display_name": "Python 3.7.13 ('thea-_DB9mXEn-py3.7')",
   "language": "python",
   "name": "python3"
  },
  "language_info": {
   "codemirror_mode": {
    "name": "ipython",
    "version": 3
   },
   "file_extension": ".py",
   "mimetype": "text/x-python",
   "name": "python",
   "nbconvert_exporter": "python",
   "pygments_lexer": "ipython3",
   "version": "3.10.12"
  },
  "orig_nbformat": 4,
  "vscode": {
   "interpreter": {
    "hash": "53c0a256d2dd9f48945eff7fe53a314924e6e552debf90d3070cc812d83a7a0a"
   }
  }
 },
 "nbformat": 4,
 "nbformat_minor": 2
}
